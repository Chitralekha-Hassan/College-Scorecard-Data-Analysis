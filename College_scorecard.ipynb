{
  "cells": [
    {
      "cell_type": "markdown",
      "source": [
        "# Libraries and modules imported"
      ],
      "metadata": {
        "nbpresent": {
          "id": "36eb8206-14c1-4cf2-a920-b603c09f2fed"
        },
        "id": "z6fIEMDX-2I-",
        "application/vnd.databricks.v1+cell": {
          "title": "",
          "showTitle": false,
          "inputWidgets": {},
          "nuid": "e847e27f-8ca1-4cc1-a65e-53a3820e1cca"
        }
      }
    },
    {
      "cell_type": "code",
      "source": [
        "import pandas as pd\n",
        "import numpy as np\n",
        "import math\n",
        "import matplotlib.pyplot as plt\n",
        "import os\n",
        "import requests\n",
        "import sklearn\n",
        "import zipfile, io\n",
        "import sklearn\n",
        "import scipy.stats as stats\n",
        "import seaborn as sns\n",
        "from sklearn import preprocessing\n",
        "from sklearn.metrics import r2_score\n",
        "import warnings\n",
        "warnings.filterwarnings('ignore')"
      ],
      "metadata": {
        "collapsed": true,
        "nbpresent": {
          "id": "c1777562-b067-42a4-8405-e866bd67abb8"
        },
        "id": "9pPwm5MO-2I_",
        "application/vnd.databricks.v1+cell": {
          "title": "",
          "showTitle": false,
          "inputWidgets": {},
          "nuid": "79559bea-c1b3-4f29-b0d8-a79f07881054"
        }
      },
      "outputs": [],
      "execution_count": 117
    },
    {
      "cell_type": "code",
      "source": [
        "!apt-get install openjdk-8-jdk-headless -qq > /dev/null"
      ],
      "metadata": {
        "application/vnd.databricks.v1+cell": {
          "title": "",
          "showTitle": false,
          "inputWidgets": {},
          "nuid": "e7c78c58-1d58-4719-b761-77609afb0a3b"
        },
        "id": "ivZPnVQeIaTC"
      },
      "outputs": [],
      "execution_count": 118
    },
    {
      "cell_type": "code",
      "source": [
        "!wget -q https://dlcdn.apache.org/spark/spark-3.2.1/spark-3.2.1-bin-hadoop3.2.tgz"
      ],
      "metadata": {
        "application/vnd.databricks.v1+cell": {
          "title": "",
          "showTitle": false,
          "inputWidgets": {},
          "nuid": "574d8e6c-e11f-46e6-9e56-56b91e46ab81"
        },
        "id": "jfszSruqIaTE"
      },
      "outputs": [],
      "execution_count": 120
    },
    {
      "cell_type": "code",
      "source": [
        "!tar xf spark-3.2.1-bin-hadoop3.2.tgz"
      ],
      "metadata": {
        "id": "FLOFUo_nJQFi"
      },
      "execution_count": 121,
      "outputs": []
    },
    {
      "cell_type": "code",
      "source": [
        "import os\n",
        "os.environ[\"JAVA_HOME\"] = \"/usr/lib/jvm/java-8-openjdk-amd64\"\n",
        "os.environ[\"SPARK_HOME\"] = \"/content/spark-3.2.1-bin-hadoop3.2\""
      ],
      "metadata": {
        "application/vnd.databricks.v1+cell": {
          "title": "",
          "showTitle": false,
          "inputWidgets": {},
          "nuid": "e1f2dc26-affe-4f26-9bf3-80f1e0f932b4"
        },
        "id": "cIGglRFGIaTG"
      },
      "outputs": [],
      "execution_count": 122
    },
    {
      "cell_type": "code",
      "source": [
        "from google.colab import drive\n",
        "drive.mount('/content/drive')"
      ],
      "metadata": {
        "colab": {
          "base_uri": "https://localhost:8080/"
        },
        "id": "gEw-nasSJYrP",
        "outputId": "0d95b114-627e-4c04-fe4d-523e8782f684"
      },
      "execution_count": 123,
      "outputs": [
        {
          "output_type": "stream",
          "name": "stdout",
          "text": [
            "Drive already mounted at /content/drive; to attempt to forcibly remount, call drive.mount(\"/content/drive\", force_remount=True).\n"
          ]
        }
      ]
    },
    {
      "cell_type": "code",
      "source": [
        "!pip install -q findspark\n"
      ],
      "metadata": {
        "application/vnd.databricks.v1+cell": {
          "title": "",
          "showTitle": false,
          "inputWidgets": {},
          "nuid": "b2830d18-c952-4776-bdf0-5902eea240dc"
        },
        "id": "32SA0AHnIaTI"
      },
      "outputs": [],
      "execution_count": 124
    },
    {
      "cell_type": "code",
      "source": [
        "!pip install pyspark"
      ],
      "metadata": {
        "colab": {
          "base_uri": "https://localhost:8080/"
        },
        "id": "7XiuYSYcJ5DA",
        "outputId": "c2c61b58-885d-4d65-fa3a-8950f7201b10"
      },
      "execution_count": 125,
      "outputs": [
        {
          "output_type": "stream",
          "name": "stdout",
          "text": [
            "Requirement already satisfied: pyspark in /usr/local/lib/python3.7/dist-packages (3.2.1)\n",
            "Requirement already satisfied: py4j==0.10.9.3 in /usr/local/lib/python3.7/dist-packages (from pyspark) (0.10.9.3)\n"
          ]
        }
      ]
    },
    {
      "cell_type": "code",
      "source": [
        "import findspark\n",
        "findspark.init()"
      ],
      "metadata": {
        "id": "mc5it2IDJ03O"
      },
      "execution_count": 126,
      "outputs": []
    },
    {
      "cell_type": "code",
      "source": [
        "from pyspark.sql import SparkSession\n",
        "spark = SparkSession.builder\\\n",
        "        .master(\"local\")\\\n",
        "        .appName(\"Colab\")\\\n",
        "        .config('spark.ui.port', '4050')\\\n",
        "        .getOrCreate()\n"
      ],
      "metadata": {
        "application/vnd.databricks.v1+cell": {
          "title": "",
          "showTitle": false,
          "inputWidgets": {},
          "nuid": "b7401005-aa25-48ec-b8a6-7122fd52e90d"
        },
        "id": "KvMoSgtEIaTK"
      },
      "outputs": [],
      "execution_count": 127
    },
    {
      "cell_type": "markdown",
      "source": [
        "# Extracting data from the database file"
      ],
      "metadata": {
        "id": "a1kwpGAKHIob",
        "application/vnd.databricks.v1+cell": {
          "title": "",
          "showTitle": false,
          "inputWidgets": {},
          "nuid": "efd5a22b-cfd4-4ea5-b12c-c38527689885"
        }
      }
    },
    {
      "cell_type": "code",
      "source": [
        "folder_name = r'../data'\n",
        "\n",
        "# make a folder if it doesn't already exist\n",
        "if not os.path.exists(folder_name):\n",
        "    os.makedirs(folder_name)\n",
        "\n",
        "# pass the url for the zipfile from data.gov\n",
        "url = r'https://ed-public-download.app.cloud.gov/downloads/CollegeScorecard_Raw_Data.zip'\n",
        "response = requests.get(url, stream = True)\n",
        "\n",
        "# extract contents\n",
        "with zipfile.ZipFile(io.BytesIO(response.content)) as zf:\n",
        "    for elem in zf.namelist():\n",
        "        zf.extract(elem, '../data')"
      ],
      "metadata": {
        "id": "vf4JooF2L4b0"
      },
      "execution_count": 128,
      "outputs": []
    },
    {
      "cell_type": "code",
      "source": [
        "df = pd.read_csv('../data/CollegeScorecard_Raw_Data/MERGED2014_15_PP.csv', low_memory = False)"
      ],
      "metadata": {
        "application/vnd.databricks.v1+cell": {
          "title": "",
          "showTitle": false,
          "inputWidgets": {},
          "nuid": "73c54f6d-d4df-4f9c-915b-cfd1a90a18cc"
        },
        "id": "pt330qL7IaTP"
      },
      "outputs": [],
      "execution_count": 129
    },
    {
      "cell_type": "code",
      "source": [
        "#Here we are selecting only certain columns thats required for this analysis\n",
        "df = df[[\"UNITID\",\"SAT_AVG\",\"INSTNM\",\"ACTENMID\",\"ACTMTMID\",\"ACTWRMID\",\"TUITIONFEE_PROG\",\n",
        "          \"MD_EARN_WNE_P10\",\"UNEMP_RATE\",\"MD_EARN_WNE_P6\",\"ADM_RATE\",\"TUITIONFEE_IN\",\"TUITIONFEE_OUT\",\"CONTROL\",\"STABBR\"]]"
      ],
      "metadata": {
        "id": "xwfEtjui-PlJ",
        "application/vnd.databricks.v1+cell": {
          "title": "",
          "showTitle": false,
          "inputWidgets": {},
          "nuid": "77be0799-8f71-4018-83b6-b4599687a64b"
        }
      },
      "outputs": [],
      "execution_count": 134
    },
    {
      "cell_type": "markdown",
      "source": [
        "#Exploratory data analysis\n",
        "Before we begin we need to understand our data thoroughly. Here is the summary of the data"
      ],
      "metadata": {
        "id": "cWCksGQBHUR8",
        "application/vnd.databricks.v1+cell": {
          "title": "",
          "showTitle": false,
          "inputWidgets": {},
          "nuid": "b952e458-6fa1-4d3a-8d60-71d393f2a698"
        }
      }
    },
    {
      "cell_type": "code",
      "source": [
        "df.head(3)"
      ],
      "metadata": {
        "colab": {
          "base_uri": "https://localhost:8080/",
          "height": 312
        },
        "id": "UIngdJJVGbUP",
        "outputId": "52df79ec-579f-45e7-a3ba-dab0b92f0998",
        "application/vnd.databricks.v1+cell": {
          "title": "",
          "showTitle": false,
          "inputWidgets": {},
          "nuid": "a26da64e-98fa-4e97-8e64-71432a3bf7ea"
        }
      },
      "outputs": [
        {
          "output_type": "execute_result",
          "data": {
            "text/html": [
              "\n",
              "  <div id=\"df-23c575c8-3248-4392-92c0-a42065d6a4da\">\n",
              "    <div class=\"colab-df-container\">\n",
              "      <div>\n",
              "<style scoped>\n",
              "    .dataframe tbody tr th:only-of-type {\n",
              "        vertical-align: middle;\n",
              "    }\n",
              "\n",
              "    .dataframe tbody tr th {\n",
              "        vertical-align: top;\n",
              "    }\n",
              "\n",
              "    .dataframe thead th {\n",
              "        text-align: right;\n",
              "    }\n",
              "</style>\n",
              "<table border=\"1\" class=\"dataframe\">\n",
              "  <thead>\n",
              "    <tr style=\"text-align: right;\">\n",
              "      <th></th>\n",
              "      <th>UNITID</th>\n",
              "      <th>SAT_AVG</th>\n",
              "      <th>INSTNM</th>\n",
              "      <th>ACTENMID</th>\n",
              "      <th>ACTMTMID</th>\n",
              "      <th>ACTWRMID</th>\n",
              "      <th>TUITIONFEE_PROG</th>\n",
              "      <th>MD_EARN_WNE_P10</th>\n",
              "      <th>UNEMP_RATE</th>\n",
              "      <th>MD_EARN_WNE_P6</th>\n",
              "      <th>ADM_RATE</th>\n",
              "      <th>TUITIONFEE_IN</th>\n",
              "      <th>TUITIONFEE_OUT</th>\n",
              "      <th>CONTROL</th>\n",
              "      <th>STABBR</th>\n",
              "    </tr>\n",
              "  </thead>\n",
              "  <tbody>\n",
              "    <tr>\n",
              "      <th>0</th>\n",
              "      <td>100654</td>\n",
              "      <td>827.0</td>\n",
              "      <td>Alabama A &amp; M University</td>\n",
              "      <td>17.0</td>\n",
              "      <td>17.0</td>\n",
              "      <td>NaN</td>\n",
              "      <td>NaN</td>\n",
              "      <td>31000</td>\n",
              "      <td>NaN</td>\n",
              "      <td>25200</td>\n",
              "      <td>0.5256</td>\n",
              "      <td>9096.0</td>\n",
              "      <td>16596.0</td>\n",
              "      <td>1</td>\n",
              "      <td>AL</td>\n",
              "    </tr>\n",
              "    <tr>\n",
              "      <th>1</th>\n",
              "      <td>100663</td>\n",
              "      <td>1107.0</td>\n",
              "      <td>University of Alabama at Birmingham</td>\n",
              "      <td>25.0</td>\n",
              "      <td>23.0</td>\n",
              "      <td>NaN</td>\n",
              "      <td>NaN</td>\n",
              "      <td>41200</td>\n",
              "      <td>NaN</td>\n",
              "      <td>35100</td>\n",
              "      <td>0.8569</td>\n",
              "      <td>7510.0</td>\n",
              "      <td>17062.0</td>\n",
              "      <td>1</td>\n",
              "      <td>AL</td>\n",
              "    </tr>\n",
              "    <tr>\n",
              "      <th>2</th>\n",
              "      <td>100690</td>\n",
              "      <td>NaN</td>\n",
              "      <td>Amridge University</td>\n",
              "      <td>NaN</td>\n",
              "      <td>NaN</td>\n",
              "      <td>NaN</td>\n",
              "      <td>NaN</td>\n",
              "      <td>39600</td>\n",
              "      <td>NaN</td>\n",
              "      <td>30700</td>\n",
              "      <td>NaN</td>\n",
              "      <td>6900.0</td>\n",
              "      <td>6900.0</td>\n",
              "      <td>2</td>\n",
              "      <td>AL</td>\n",
              "    </tr>\n",
              "  </tbody>\n",
              "</table>\n",
              "</div>\n",
              "      <button class=\"colab-df-convert\" onclick=\"convertToInteractive('df-23c575c8-3248-4392-92c0-a42065d6a4da')\"\n",
              "              title=\"Convert this dataframe to an interactive table.\"\n",
              "              style=\"display:none;\">\n",
              "        \n",
              "  <svg xmlns=\"http://www.w3.org/2000/svg\" height=\"24px\"viewBox=\"0 0 24 24\"\n",
              "       width=\"24px\">\n",
              "    <path d=\"M0 0h24v24H0V0z\" fill=\"none\"/>\n",
              "    <path d=\"M18.56 5.44l.94 2.06.94-2.06 2.06-.94-2.06-.94-.94-2.06-.94 2.06-2.06.94zm-11 1L8.5 8.5l.94-2.06 2.06-.94-2.06-.94L8.5 2.5l-.94 2.06-2.06.94zm10 10l.94 2.06.94-2.06 2.06-.94-2.06-.94-.94-2.06-.94 2.06-2.06.94z\"/><path d=\"M17.41 7.96l-1.37-1.37c-.4-.4-.92-.59-1.43-.59-.52 0-1.04.2-1.43.59L10.3 9.45l-7.72 7.72c-.78.78-.78 2.05 0 2.83L4 21.41c.39.39.9.59 1.41.59.51 0 1.02-.2 1.41-.59l7.78-7.78 2.81-2.81c.8-.78.8-2.07 0-2.86zM5.41 20L4 18.59l7.72-7.72 1.47 1.35L5.41 20z\"/>\n",
              "  </svg>\n",
              "      </button>\n",
              "      \n",
              "  <style>\n",
              "    .colab-df-container {\n",
              "      display:flex;\n",
              "      flex-wrap:wrap;\n",
              "      gap: 12px;\n",
              "    }\n",
              "\n",
              "    .colab-df-convert {\n",
              "      background-color: #E8F0FE;\n",
              "      border: none;\n",
              "      border-radius: 50%;\n",
              "      cursor: pointer;\n",
              "      display: none;\n",
              "      fill: #1967D2;\n",
              "      height: 32px;\n",
              "      padding: 0 0 0 0;\n",
              "      width: 32px;\n",
              "    }\n",
              "\n",
              "    .colab-df-convert:hover {\n",
              "      background-color: #E2EBFA;\n",
              "      box-shadow: 0px 1px 2px rgba(60, 64, 67, 0.3), 0px 1px 3px 1px rgba(60, 64, 67, 0.15);\n",
              "      fill: #174EA6;\n",
              "    }\n",
              "\n",
              "    [theme=dark] .colab-df-convert {\n",
              "      background-color: #3B4455;\n",
              "      fill: #D2E3FC;\n",
              "    }\n",
              "\n",
              "    [theme=dark] .colab-df-convert:hover {\n",
              "      background-color: #434B5C;\n",
              "      box-shadow: 0px 1px 3px 1px rgba(0, 0, 0, 0.15);\n",
              "      filter: drop-shadow(0px 1px 2px rgba(0, 0, 0, 0.3));\n",
              "      fill: #FFFFFF;\n",
              "    }\n",
              "  </style>\n",
              "\n",
              "      <script>\n",
              "        const buttonEl =\n",
              "          document.querySelector('#df-23c575c8-3248-4392-92c0-a42065d6a4da button.colab-df-convert');\n",
              "        buttonEl.style.display =\n",
              "          google.colab.kernel.accessAllowed ? 'block' : 'none';\n",
              "\n",
              "        async function convertToInteractive(key) {\n",
              "          const element = document.querySelector('#df-23c575c8-3248-4392-92c0-a42065d6a4da');\n",
              "          const dataTable =\n",
              "            await google.colab.kernel.invokeFunction('convertToInteractive',\n",
              "                                                     [key], {});\n",
              "          if (!dataTable) return;\n",
              "\n",
              "          const docLinkHtml = 'Like what you see? Visit the ' +\n",
              "            '<a target=\"_blank\" href=https://colab.research.google.com/notebooks/data_table.ipynb>data table notebook</a>'\n",
              "            + ' to learn more about interactive tables.';\n",
              "          element.innerHTML = '';\n",
              "          dataTable['output_type'] = 'display_data';\n",
              "          await google.colab.output.renderOutput(dataTable, element);\n",
              "          const docLink = document.createElement('div');\n",
              "          docLink.innerHTML = docLinkHtml;\n",
              "          element.appendChild(docLink);\n",
              "        }\n",
              "      </script>\n",
              "    </div>\n",
              "  </div>\n",
              "  "
            ],
            "text/plain": [
              "   UNITID  SAT_AVG  ... CONTROL  STABBR\n",
              "0  100654    827.0  ...       1      AL\n",
              "1  100663   1107.0  ...       1      AL\n",
              "2  100690      NaN  ...       2      AL\n",
              "\n",
              "[3 rows x 15 columns]"
            ]
          },
          "metadata": {},
          "execution_count": 135
        }
      ],
      "execution_count": 135
    },
    {
      "cell_type": "code",
      "source": [
        "df.dtypes"
      ],
      "metadata": {
        "colab": {
          "base_uri": "https://localhost:8080/"
        },
        "id": "TZ72e5I_PJFk",
        "outputId": "a0d22b30-48b3-4760-ceda-530409f3cff9"
      },
      "execution_count": 136,
      "outputs": [
        {
          "output_type": "execute_result",
          "data": {
            "text/plain": [
              "UNITID               int64\n",
              "SAT_AVG            float64\n",
              "INSTNM              object\n",
              "ACTENMID           float64\n",
              "ACTMTMID           float64\n",
              "ACTWRMID           float64\n",
              "TUITIONFEE_PROG    float64\n",
              "MD_EARN_WNE_P10     object\n",
              "UNEMP_RATE         float64\n",
              "MD_EARN_WNE_P6      object\n",
              "ADM_RATE           float64\n",
              "TUITIONFEE_IN      float64\n",
              "TUITIONFEE_OUT     float64\n",
              "CONTROL              int64\n",
              "STABBR              object\n",
              "dtype: object"
            ]
          },
          "metadata": {},
          "execution_count": 136
        }
      ]
    },
    {
      "cell_type": "code",
      "source": [
        "df.describe()"
      ],
      "metadata": {
        "id": "4Bu16PkN-2JB",
        "application/vnd.databricks.v1+cell": {
          "title": "",
          "showTitle": false,
          "inputWidgets": {},
          "nuid": "337011e3-a2cd-47d7-b23a-ccdc5616f7ce"
        },
        "colab": {
          "base_uri": "https://localhost:8080/",
          "height": 364
        },
        "scrolled": true,
        "nbpresent": {
          "id": "44d6491c-51c2-4c4f-a552-969d6d83398e"
        },
        "outputId": "b8488c26-2260-47b9-a14c-549f3e72d06c"
      },
      "outputs": [
        {
          "output_type": "execute_result",
          "data": {
            "text/html": [
              "\n",
              "  <div id=\"df-85099dfd-6794-433e-b450-87328b4f5f0f\">\n",
              "    <div class=\"colab-df-container\">\n",
              "      <div>\n",
              "<style scoped>\n",
              "    .dataframe tbody tr th:only-of-type {\n",
              "        vertical-align: middle;\n",
              "    }\n",
              "\n",
              "    .dataframe tbody tr th {\n",
              "        vertical-align: top;\n",
              "    }\n",
              "\n",
              "    .dataframe thead th {\n",
              "        text-align: right;\n",
              "    }\n",
              "</style>\n",
              "<table border=\"1\" class=\"dataframe\">\n",
              "  <thead>\n",
              "    <tr style=\"text-align: right;\">\n",
              "      <th></th>\n",
              "      <th>UNITID</th>\n",
              "      <th>SAT_AVG</th>\n",
              "      <th>ACTENMID</th>\n",
              "      <th>ACTMTMID</th>\n",
              "      <th>ACTWRMID</th>\n",
              "      <th>TUITIONFEE_PROG</th>\n",
              "      <th>UNEMP_RATE</th>\n",
              "      <th>ADM_RATE</th>\n",
              "      <th>TUITIONFEE_IN</th>\n",
              "      <th>TUITIONFEE_OUT</th>\n",
              "      <th>CONTROL</th>\n",
              "    </tr>\n",
              "  </thead>\n",
              "  <tbody>\n",
              "    <tr>\n",
              "      <th>count</th>\n",
              "      <td>7.766000e+03</td>\n",
              "      <td>1314.000000</td>\n",
              "      <td>1118.000000</td>\n",
              "      <td>1120.000000</td>\n",
              "      <td>303.000000</td>\n",
              "      <td>2800.000000</td>\n",
              "      <td>0.0</td>\n",
              "      <td>2214.000000</td>\n",
              "      <td>4407.000000</td>\n",
              "      <td>4205.000000</td>\n",
              "      <td>7766.000000</td>\n",
              "    </tr>\n",
              "    <tr>\n",
              "      <th>mean</th>\n",
              "      <td>1.652103e+06</td>\n",
              "      <td>1059.910198</td>\n",
              "      <td>22.884615</td>\n",
              "      <td>22.681250</td>\n",
              "      <td>7.792079</td>\n",
              "      <td>15129.754643</td>\n",
              "      <td>NaN</td>\n",
              "      <td>0.693272</td>\n",
              "      <td>14148.197413</td>\n",
              "      <td>16734.086326</td>\n",
              "      <td>2.213881</td>\n",
              "    </tr>\n",
              "    <tr>\n",
              "      <th>std</th>\n",
              "      <td>6.541349e+06</td>\n",
              "      <td>133.585773</td>\n",
              "      <td>3.868949</td>\n",
              "      <td>3.449004</td>\n",
              "      <td>1.016260</td>\n",
              "      <td>7304.280345</td>\n",
              "      <td>NaN</td>\n",
              "      <td>0.208325</td>\n",
              "      <td>10988.968703</td>\n",
              "      <td>10241.052811</td>\n",
              "      <td>0.835292</td>\n",
              "    </tr>\n",
              "    <tr>\n",
              "      <th>min</th>\n",
              "      <td>1.006540e+05</td>\n",
              "      <td>720.000000</td>\n",
              "      <td>13.000000</td>\n",
              "      <td>13.000000</td>\n",
              "      <td>4.000000</td>\n",
              "      <td>200.000000</td>\n",
              "      <td>NaN</td>\n",
              "      <td>0.000000</td>\n",
              "      <td>0.000000</td>\n",
              "      <td>580.000000</td>\n",
              "      <td>1.000000</td>\n",
              "    </tr>\n",
              "    <tr>\n",
              "      <th>25%</th>\n",
              "      <td>1.742375e+05</td>\n",
              "      <td>974.000000</td>\n",
              "      <td>20.000000</td>\n",
              "      <td>21.000000</td>\n",
              "      <td>7.000000</td>\n",
              "      <td>11515.000000</td>\n",
              "      <td>NaN</td>\n",
              "      <td>0.566850</td>\n",
              "      <td>5277.500000</td>\n",
              "      <td>8984.000000</td>\n",
              "      <td>1.000000</td>\n",
              "    </tr>\n",
              "    <tr>\n",
              "      <th>50%</th>\n",
              "      <td>2.305435e+05</td>\n",
              "      <td>1040.000000</td>\n",
              "      <td>22.000000</td>\n",
              "      <td>22.000000</td>\n",
              "      <td>8.000000</td>\n",
              "      <td>14985.000000</td>\n",
              "      <td>NaN</td>\n",
              "      <td>0.715050</td>\n",
              "      <td>12204.000000</td>\n",
              "      <td>14400.000000</td>\n",
              "      <td>2.000000</td>\n",
              "    </tr>\n",
              "    <tr>\n",
              "      <th>75%</th>\n",
              "      <td>4.477198e+05</td>\n",
              "      <td>1122.000000</td>\n",
              "      <td>25.000000</td>\n",
              "      <td>24.000000</td>\n",
              "      <td>9.000000</td>\n",
              "      <td>17200.000000</td>\n",
              "      <td>NaN</td>\n",
              "      <td>0.846200</td>\n",
              "      <td>18048.000000</td>\n",
              "      <td>21160.000000</td>\n",
              "      <td>3.000000</td>\n",
              "    </tr>\n",
              "    <tr>\n",
              "      <th>max</th>\n",
              "      <td>4.841450e+07</td>\n",
              "      <td>1545.000000</td>\n",
              "      <td>35.000000</td>\n",
              "      <td>36.000000</td>\n",
              "      <td>12.000000</td>\n",
              "      <td>88550.000000</td>\n",
              "      <td>NaN</td>\n",
              "      <td>1.000000</td>\n",
              "      <td>74787.000000</td>\n",
              "      <td>74787.000000</td>\n",
              "      <td>3.000000</td>\n",
              "    </tr>\n",
              "  </tbody>\n",
              "</table>\n",
              "</div>\n",
              "      <button class=\"colab-df-convert\" onclick=\"convertToInteractive('df-85099dfd-6794-433e-b450-87328b4f5f0f')\"\n",
              "              title=\"Convert this dataframe to an interactive table.\"\n",
              "              style=\"display:none;\">\n",
              "        \n",
              "  <svg xmlns=\"http://www.w3.org/2000/svg\" height=\"24px\"viewBox=\"0 0 24 24\"\n",
              "       width=\"24px\">\n",
              "    <path d=\"M0 0h24v24H0V0z\" fill=\"none\"/>\n",
              "    <path d=\"M18.56 5.44l.94 2.06.94-2.06 2.06-.94-2.06-.94-.94-2.06-.94 2.06-2.06.94zm-11 1L8.5 8.5l.94-2.06 2.06-.94-2.06-.94L8.5 2.5l-.94 2.06-2.06.94zm10 10l.94 2.06.94-2.06 2.06-.94-2.06-.94-.94-2.06-.94 2.06-2.06.94z\"/><path d=\"M17.41 7.96l-1.37-1.37c-.4-.4-.92-.59-1.43-.59-.52 0-1.04.2-1.43.59L10.3 9.45l-7.72 7.72c-.78.78-.78 2.05 0 2.83L4 21.41c.39.39.9.59 1.41.59.51 0 1.02-.2 1.41-.59l7.78-7.78 2.81-2.81c.8-.78.8-2.07 0-2.86zM5.41 20L4 18.59l7.72-7.72 1.47 1.35L5.41 20z\"/>\n",
              "  </svg>\n",
              "      </button>\n",
              "      \n",
              "  <style>\n",
              "    .colab-df-container {\n",
              "      display:flex;\n",
              "      flex-wrap:wrap;\n",
              "      gap: 12px;\n",
              "    }\n",
              "\n",
              "    .colab-df-convert {\n",
              "      background-color: #E8F0FE;\n",
              "      border: none;\n",
              "      border-radius: 50%;\n",
              "      cursor: pointer;\n",
              "      display: none;\n",
              "      fill: #1967D2;\n",
              "      height: 32px;\n",
              "      padding: 0 0 0 0;\n",
              "      width: 32px;\n",
              "    }\n",
              "\n",
              "    .colab-df-convert:hover {\n",
              "      background-color: #E2EBFA;\n",
              "      box-shadow: 0px 1px 2px rgba(60, 64, 67, 0.3), 0px 1px 3px 1px rgba(60, 64, 67, 0.15);\n",
              "      fill: #174EA6;\n",
              "    }\n",
              "\n",
              "    [theme=dark] .colab-df-convert {\n",
              "      background-color: #3B4455;\n",
              "      fill: #D2E3FC;\n",
              "    }\n",
              "\n",
              "    [theme=dark] .colab-df-convert:hover {\n",
              "      background-color: #434B5C;\n",
              "      box-shadow: 0px 1px 3px 1px rgba(0, 0, 0, 0.15);\n",
              "      filter: drop-shadow(0px 1px 2px rgba(0, 0, 0, 0.3));\n",
              "      fill: #FFFFFF;\n",
              "    }\n",
              "  </style>\n",
              "\n",
              "      <script>\n",
              "        const buttonEl =\n",
              "          document.querySelector('#df-85099dfd-6794-433e-b450-87328b4f5f0f button.colab-df-convert');\n",
              "        buttonEl.style.display =\n",
              "          google.colab.kernel.accessAllowed ? 'block' : 'none';\n",
              "\n",
              "        async function convertToInteractive(key) {\n",
              "          const element = document.querySelector('#df-85099dfd-6794-433e-b450-87328b4f5f0f');\n",
              "          const dataTable =\n",
              "            await google.colab.kernel.invokeFunction('convertToInteractive',\n",
              "                                                     [key], {});\n",
              "          if (!dataTable) return;\n",
              "\n",
              "          const docLinkHtml = 'Like what you see? Visit the ' +\n",
              "            '<a target=\"_blank\" href=https://colab.research.google.com/notebooks/data_table.ipynb>data table notebook</a>'\n",
              "            + ' to learn more about interactive tables.';\n",
              "          element.innerHTML = '';\n",
              "          dataTable['output_type'] = 'display_data';\n",
              "          await google.colab.output.renderOutput(dataTable, element);\n",
              "          const docLink = document.createElement('div');\n",
              "          docLink.innerHTML = docLinkHtml;\n",
              "          element.appendChild(docLink);\n",
              "        }\n",
              "      </script>\n",
              "    </div>\n",
              "  </div>\n",
              "  "
            ],
            "text/plain": [
              "             UNITID      SAT_AVG  ...  TUITIONFEE_OUT      CONTROL\n",
              "count  7.766000e+03  1314.000000  ...     4205.000000  7766.000000\n",
              "mean   1.652103e+06  1059.910198  ...    16734.086326     2.213881\n",
              "std    6.541349e+06   133.585773  ...    10241.052811     0.835292\n",
              "min    1.006540e+05   720.000000  ...      580.000000     1.000000\n",
              "25%    1.742375e+05   974.000000  ...     8984.000000     1.000000\n",
              "50%    2.305435e+05  1040.000000  ...    14400.000000     2.000000\n",
              "75%    4.477198e+05  1122.000000  ...    21160.000000     3.000000\n",
              "max    4.841450e+07  1545.000000  ...    74787.000000     3.000000\n",
              "\n",
              "[8 rows x 11 columns]"
            ]
          },
          "metadata": {},
          "execution_count": 139
        }
      ],
      "execution_count": 139
    },
    {
      "cell_type": "code",
      "source": [
        "df.count()"
      ],
      "metadata": {
        "colab": {
          "base_uri": "https://localhost:8080/"
        },
        "id": "yeioFYwe3eyE",
        "outputId": "db4a306f-94e9-4a57-ab2b-00381289f975",
        "application/vnd.databricks.v1+cell": {
          "title": "",
          "showTitle": false,
          "inputWidgets": {},
          "nuid": "3d03bf5c-540d-4e2e-b990-b86befcbb59f"
        }
      },
      "outputs": [
        {
          "output_type": "execute_result",
          "data": {
            "text/plain": [
              "UNITID             7766\n",
              "SAT_AVG            1314\n",
              "INSTNM             7766\n",
              "ACTENMID           1118\n",
              "ACTMTMID           1120\n",
              "ACTWRMID            303\n",
              "TUITIONFEE_PROG    2800\n",
              "MD_EARN_WNE_P10    6951\n",
              "UNEMP_RATE            0\n",
              "MD_EARN_WNE_P6     6951\n",
              "ADM_RATE           2214\n",
              "TUITIONFEE_IN      4407\n",
              "TUITIONFEE_OUT     4205\n",
              "CONTROL            7766\n",
              "STABBR             7766\n",
              "dtype: int64"
            ]
          },
          "metadata": {},
          "execution_count": 140
        }
      ],
      "execution_count": 140
    },
    {
      "cell_type": "markdown",
      "source": [
        "#Descriptive Statistics\n",
        "A histogram will be drawn for each\n",
        "of the numerical variables in order to see the data distribution\n",
        "as well as to detect any outliers. Bar plots will be utilized\n",
        "for non-numerical variables. We examine the data distribution\n",
        "in order to have a better understanding of our data and to\n",
        "draw inferences from it. For example, we may determine\n",
        "whether the data are comparable or where the majority of\n",
        "the data converge, while glancing at the mean value is not\n",
        "always sufficient because the mean can be readily influenced\n",
        "by outliers.\n",
        "\n",
        "\n",
        "A short description of the data (max value, min value,\n",
        "standard deviation, etc.) is given for each graph, as well as\n",
        "the variance of the data. Variance near to 0 indicates that\n",
        "the majority of the data is similar, whereas large variance\n",
        "indicates that the majority of the data is dissimilar. As a\n",
        "result, by considering the variance value, we may eliminate\n",
        "characteristics that provide minimal information. It’s important\n",
        "to remember that the data must first be normalized before the\n",
        "variance can be calculated."
      ],
      "metadata": {
        "application/vnd.databricks.v1+cell": {
          "title": "",
          "showTitle": false,
          "inputWidgets": {},
          "nuid": "b828a004-062d-424f-98de-99d474f0dfa2"
        },
        "id": "jwHSVczzIaTZ"
      }
    },
    {
      "cell_type": "code",
      "source": [
        "min_max_scaler = preprocessing.MinMaxScaler() #For normalization\n",
        "# Clean NaN values from the variable we want to check\n",
        "def cleanVariable(variable_to_check):\n",
        "    df_SAT = df.copy()\n",
        "    print(df_SAT[variable_to_check])\n",
        "    df_SAT = df_SAT[df_SAT[variable_to_check]>0]\n",
        "    print(df_SAT)\n",
        "    return df_SAT"
      ],
      "metadata": {
        "nbpresent": {
          "id": "c9767e41-92ca-45e7-a73c-1755751de748"
        },
        "id": "7apfuQj4-2JD",
        "application/vnd.databricks.v1+cell": {
          "title": "",
          "showTitle": false,
          "inputWidgets": {},
          "nuid": "a87ac077-8163-40ac-b29c-4f919ddbf649"
        }
      },
      "outputs": [],
      "execution_count": 141
    },
    {
      "cell_type": "code",
      "source": [
        "variable_to_check = \"SAT_AVG\"\n",
        "dfplt = cleanVariable(variable_to_check)\n",
        "plt.hist(dfplt[variable_to_check], bins=10)\n",
        "plt.xlabel(\"Average student SAT Scores of college\")\n",
        "plt.ylabel(\"Freq\")\n",
        "plt.title(\"Distribution of average SAT scores of students in each college\")\n",
        "plt.show()\n",
        "\n",
        "print(\"Variance: \", np.var(min_max_scaler.fit_transform(dfplt[[variable_to_check]])))\n",
        "print(dfplt[[variable_to_check]].describe())\n",
        "print (min_max_scaler.fit_transform(dfplt[[variable_to_check]]))"
      ],
      "metadata": {
        "id": "R-Nt8gD8-2JD",
        "application/vnd.databricks.v1+cell": {
          "title": "",
          "showTitle": false,
          "inputWidgets": {},
          "nuid": "14b39f05-6528-4272-bd74-2245eeee1d11"
        },
        "colab": {
          "base_uri": "https://localhost:8080/",
          "height": 1000
        },
        "scrolled": true,
        "nbpresent": {
          "id": "dbd14b60-253f-45b9-a743-9ccfb4ace4be"
        },
        "outputId": "fd42c31e-8ca9-4c7d-fc55-f171d91b67a4"
      },
      "outputs": [
        {
          "output_type": "stream",
          "name": "stdout",
          "text": [
            "0        827.0\n",
            "1       1107.0\n",
            "2          NaN\n",
            "3       1219.0\n",
            "4        851.0\n",
            "         ...  \n",
            "7761       NaN\n",
            "7762       NaN\n",
            "7763       NaN\n",
            "7764       NaN\n",
            "7765       NaN\n",
            "Name: SAT_AVG, Length: 7766, dtype: float64\n",
            "      UNITID  SAT_AVG  ... CONTROL  STABBR\n",
            "0     100654    827.0  ...       1      AL\n",
            "1     100663   1107.0  ...       1      AL\n",
            "3     100706   1219.0  ...       1      AL\n",
            "4     100724    851.0  ...       1      AL\n",
            "5     100751   1185.0  ...       1      AL\n",
            "...      ...      ...  ...     ...     ...\n",
            "7001  479956   1040.0  ...       1      PA\n",
            "7138  482149   1030.0  ...       1      GA\n",
            "7185  482680   1016.0  ...       1      GA\n",
            "7287  484473   1156.0  ...       1      FL\n",
            "7313  484905    887.0  ...       1      TX\n",
            "\n",
            "[1314 rows x 15 columns]\n"
          ]
        },
        {
          "output_type": "display_data",
          "data": {
            "image/png": "[encoded data removed]",
            "text/plain": [
              "<Figure size 432x288 with 1 Axes>"
            ]
          },
          "metadata": {
            "needs_background": "light"
          }
        },
        {
          "output_type": "stream",
          "name": "stdout",
          "text": [
            "Variance:  0.026198828918322342\n",
            "           SAT_AVG\n",
            "count  1314.000000\n",
            "mean   1059.910198\n",
            "std     133.585773\n",
            "min     720.000000\n",
            "25%     974.000000\n",
            "50%    1040.000000\n",
            "75%    1122.000000\n",
            "max    1545.000000\n",
            "[[0.12969697]\n",
            " [0.46909091]\n",
            " [0.60484848]\n",
            " ...\n",
            " [0.35878788]\n",
            " [0.52848485]\n",
            " [0.20242424]]\n"
          ]
        }
      ],
      "execution_count": 142
    },
    {
      "cell_type": "markdown",
      "source": [
        "We may deduce from the histogram of the distribution of\n",
        "average SAT scores of college students that if you have an\n",
        "overall SAT score of about 900- 1200, you will likely be\n",
        "accepted to most colleges. However, based on the histogram."
      ],
      "metadata": {
        "nbpresent": {
          "id": "47eb8f82-de90-43e2-bbe9-f2266999f8cd"
        },
        "id": "pAjLZvHR-2JD",
        "application/vnd.databricks.v1+cell": {
          "title": "",
          "showTitle": false,
          "inputWidgets": {},
          "nuid": "309eacb1-9d19-4b3f-98fc-7477266f79fd"
        }
      }
    },
    {
      "cell_type": "code",
      "source": [
        "dff = df.copy()\n",
        "dff = dff[dff[\"SAT_AVG\"] > 0]\n",
        "dff[\"INSTNM\"] = dff[\"INSTNM\"].str.upper()\n",
        "dff.drop_duplicates(\"INSTNM\", inplace=True)\n",
        "a = dff.sort_values('SAT_AVG', ascending=False).head(10)\n",
        "sns.barplot(a[\"SAT_AVG\"], a[\"INSTNM\"], orient=\"h\")\n",
        "plt.ylabel(\"Institute name\")\n",
        "plt.xlabel(\"Average SAT Score of students enrolled\")\n",
        "plt.title(\"Top 10 college by average SAT Score\")\n",
        "plt.show()\n",
        "\n",
        "b = dff.sort_values('SAT_AVG', ascending=True).head(10)\n",
        "sns.barplot(b[\"SAT_AVG\"], b[\"INSTNM\"], orient=\"h\")\n",
        "plt.ylabel(\"Institute name\")\n",
        "plt.xlabel(\"Average SAT Score of students enrolled\")\n",
        "plt.title(\"Bottom 10 college by average SAT Score\")\n",
        "plt.show()"
      ],
      "metadata": {
        "id": "DqAsDH6b-2JE",
        "application/vnd.databricks.v1+cell": {
          "title": "",
          "showTitle": false,
          "inputWidgets": {},
          "nuid": "24c13ea7-f43c-4181-90b7-4917d01963bb"
        },
        "colab": {
          "base_uri": "https://localhost:8080/",
          "height": 573
        },
        "nbpresent": {
          "id": "7df272a0-fc81-45a5-8cbc-aad18c2d2d2e"
        },
        "outputId": "61b05f6b-4fac-49d5-f8b6-7022bdf8d9d2"
      },
      "outputs": [
        {
          "output_type": "display_data",
          "data": {
            "image/png": "[encoded data removed]",
            "text/plain": [
              "<Figure size 432x288 with 1 Axes>"
            ]
          },
          "metadata": {
            "needs_background": "light"
          }
        },
        {
          "output_type": "display_data",
          "data": {
            "image/png": "[encoded data removed]",
            "text/plain": [
              "<Figure size 432x288 with 1 Axes>"
            ]
          },
          "metadata": {
            "needs_background": "light"
          }
        }
      ],
      "execution_count": 143
    },
    {
      "cell_type": "markdown",
      "source": [
        "We can observe that students at schools and universities\n",
        "such as Harvard and the Massachusetts Institute of Technology\n",
        "have relatively high SAT scores. This information is valuable\n",
        "for students who wish to apply to these colleges and want to\n",
        "improve their SAT scores in order to have a better chance of\n",
        "being accepted."
      ],
      "metadata": {
        "nbpresent": {
          "id": "05649bd8-32e0-4b64-b029-0c760282761c"
        },
        "id": "XQHyO_1n-2JE",
        "application/vnd.databricks.v1+cell": {
          "title": "",
          "showTitle": false,
          "inputWidgets": {},
          "nuid": "599bb547-5947-412a-80a1-fae758c971c6"
        }
      }
    },
    {
      "cell_type": "code",
      "source": [
        "variable_to_check = \"TUITIONFEE_PROG\"\n",
        "dfplt = cleanVariable(variable_to_check)\n",
        "plt.hist(dfplt[variable_to_check], bins=10)\n",
        "plt.xlabel(\"Tuition fee of each college\")\n",
        "plt.ylabel(\"Freq\")\n",
        "plt.title(\"Distribution of tuition fee of each college\")\n",
        "plt.show()\n",
        "\n",
        "print(\"Variance: \", np.var(min_max_scaler.fit_transform(dfplt[[variable_to_check]]))) \n",
        "print(dfplt[[variable_to_check]].describe())"
      ],
      "metadata": {
        "id": "sNnwf-5a-2JE",
        "application/vnd.databricks.v1+cell": {
          "title": "",
          "showTitle": false,
          "inputWidgets": {},
          "nuid": "14aa75af-885a-4664-9c70-a0bc0f99e3cd"
        },
        "colab": {
          "base_uri": "https://localhost:8080/",
          "height": 953
        },
        "nbpresent": {
          "id": "4ae73d9d-6ff5-4a4f-931d-384c236b48ca"
        },
        "outputId": "01365356-2612-424b-b43c-6b762f07ff51"
      },
      "outputs": [
        {
          "output_type": "stream",
          "name": "stdout",
          "text": [
            "0           NaN\n",
            "1           NaN\n",
            "2           NaN\n",
            "3           NaN\n",
            "4           NaN\n",
            "         ...   \n",
            "7761        NaN\n",
            "7762        NaN\n",
            "7763    12000.0\n",
            "7764        NaN\n",
            "7765     7000.0\n",
            "Name: TUITIONFEE_PROG, Length: 7766, dtype: float64\n",
            "        UNITID  SAT_AVG  ... CONTROL  STABBR\n",
            "18      101277      NaN  ...       3      AL\n",
            "66      102711      NaN  ...       1      AK\n",
            "68      103501      NaN  ...       3      AK\n",
            "71      103732      NaN  ...       3      AZ\n",
            "72      103741      NaN  ...       3      AZ\n",
            "...        ...      ...  ...     ...     ...\n",
            "7758  47657701      NaN  ...       3      TX\n",
            "7759  47657702      NaN  ...       3      TX\n",
            "7760  47691101      NaN  ...       3      CA\n",
            "7763  48387801      NaN  ...       3      CA\n",
            "7765  48414501      NaN  ...       3      TX\n",
            "\n",
            "[2800 rows x 15 columns]\n"
          ]
        },
        {
          "output_type": "display_data",
          "data": {
            "image/png": "[encoded data removed]",
            "text/plain": [
              "<Figure size 432x288 with 1 Axes>"
            ]
          },
          "metadata": {
            "needs_background": "light"
          }
        },
        {
          "output_type": "stream",
          "name": "stdout",
          "text": [
            "Variance:  0.006832609907138167\n",
            "       TUITIONFEE_PROG\n",
            "count      2800.000000\n",
            "mean      15129.754643\n",
            "std        7304.280345\n",
            "min         200.000000\n",
            "25%       11515.000000\n",
            "50%       14985.000000\n",
            "75%       17200.000000\n",
            "max       88550.000000\n"
          ]
        }
      ],
      "execution_count": 144
    },
    {
      "cell_type": "markdown",
      "source": [
        "Looking at the histogram of tuition charge distribution, we\n",
        "can see that tuition fees are quite low for most universities,\n",
        "with most colleges charging less than the national average."
      ],
      "metadata": {
        "nbpresent": {
          "id": "465085c5-5a3f-4fa1-bcb1-f10b966f4a4d"
        },
        "id": "acJJQbZE-2JF",
        "application/vnd.databricks.v1+cell": {
          "title": "",
          "showTitle": false,
          "inputWidgets": {},
          "nuid": "e3286fd3-e121-4d81-bd75-824f6b71498b"
        }
      }
    },
    {
      "cell_type": "code",
      "source": [
        "variable_to_check = \"TUITIONFEE_IN\"\n",
        "dfplt = cleanVariable(variable_to_check)\n",
        "plt.hist(dfplt[variable_to_check], bins=20)\n",
        "plt.xlabel(\"In-state tuition fee\")\n",
        "plt.ylabel(\"Freq\")\n",
        "plt.title(\"Distribution of in-state tuition fee of University\")\n",
        "plt.show()\n",
        "print(\"Variance: \", np.var(min_max_scaler.fit_transform(dfplt[[variable_to_check]]))) \n",
        "print(dfplt[[variable_to_check]].describe())\n",
        "\n",
        "variable_to_check = \"TUITIONFEE_OUT\"\n",
        "dfplt = cleanVariable(variable_to_check)\n",
        "plt.hist(dfplt[variable_to_check], bins=20)\n",
        "plt.xlabel(\"Out-of-state tuition fee\")\n",
        "plt.ylabel(\"Freq\")\n",
        "plt.title(\"Distribution of out-of-state tuition fee of University\")\n",
        "plt.show()\n",
        "print(\"Variance: \", np.var(min_max_scaler.fit_transform(dfplt[[variable_to_check]]))) \n",
        "print(dfplt[[variable_to_check]].describe())"
      ],
      "metadata": {
        "id": "3dN4ViKP-2JF",
        "application/vnd.databricks.v1+cell": {
          "title": "",
          "showTitle": false,
          "inputWidgets": {},
          "nuid": "2203e64a-1b6c-475d-8add-3feaad4a05ef"
        },
        "colab": {
          "base_uri": "https://localhost:8080/",
          "height": 1000
        },
        "nbpresent": {
          "id": "99fdc5fd-0a85-4233-8e56-3d5fea5df46e"
        },
        "outputId": "7a383174-75b8-42d1-e3db-c23c8c3aac5e"
      },
      "outputs": [
        {
          "output_type": "stream",
          "name": "stdout",
          "text": [
            "0        9096.0\n",
            "1        7510.0\n",
            "2        6900.0\n",
            "3        9158.0\n",
            "4        8720.0\n",
            "         ...   \n",
            "7761    10764.0\n",
            "7762        NaN\n",
            "7763        NaN\n",
            "7764    29932.0\n",
            "7765        NaN\n",
            "Name: TUITIONFEE_IN, Length: 7766, dtype: float64\n",
            "        UNITID  SAT_AVG  ... CONTROL  STABBR\n",
            "0       100654    827.0  ...       1      AL\n",
            "1       100663   1107.0  ...       1      AL\n",
            "2       100690      NaN  ...       2      AL\n",
            "3       100706   1219.0  ...       1      AL\n",
            "4       100724    851.0  ...       1      AL\n",
            "...        ...      ...  ...     ...     ...\n",
            "7754  45897307      NaN  ...       3      TX\n",
            "7755  45897308      NaN  ...       3      TX\n",
            "7756  45920401      NaN  ...       3      CA\n",
            "7761  48065701      NaN  ...       3      KS\n",
            "7764  48400201      NaN  ...       3      CA\n",
            "\n",
            "[4406 rows x 15 columns]\n"
          ]
        },
        {
          "output_type": "display_data",
          "data": {
            "image/png": "[encoded data removed]",
            "text/plain": [
              "<Figure size 432x288 with 1 Axes>"
            ]
          },
          "metadata": {
            "needs_background": "light"
          }
        },
        {
          "output_type": "stream",
          "name": "stdout",
          "text": [
            "Variance:  0.021921015293979364\n",
            "       TUITIONFEE_IN\n",
            "count    4406.000000\n",
            "mean    14151.408534\n",
            "std     10988.147918\n",
            "min       580.000000\n",
            "25%      5282.750000\n",
            "50%     12204.000000\n",
            "75%     18048.000000\n",
            "max     74787.000000\n",
            "0       16596.0\n",
            "1       17062.0\n",
            "2        6900.0\n",
            "3       21232.0\n",
            "4       15656.0\n",
            "         ...   \n",
            "7761        NaN\n",
            "7762        NaN\n",
            "7763        NaN\n",
            "7764        NaN\n",
            "7765        NaN\n",
            "Name: TUITIONFEE_OUT, Length: 7766, dtype: float64\n",
            "        UNITID  SAT_AVG  ... CONTROL  STABBR\n",
            "0       100654    827.0  ...       1      AL\n",
            "1       100663   1107.0  ...       1      AL\n",
            "2       100690      NaN  ...       2      AL\n",
            "3       100706   1219.0  ...       1      AL\n",
            "4       100724    851.0  ...       1      AL\n",
            "...        ...      ...  ...     ...     ...\n",
            "7584  22797902      NaN  ...       1      TX\n",
            "7589  23059701      NaN  ...       1      UT\n",
            "7601  23693901      NaN  ...       1      WA\n",
            "7603  23693903      NaN  ...       1      WA\n",
            "7605  24366501      NaN  ...       1      VI\n",
            "\n",
            "[4205 rows x 15 columns]\n"
          ]
        },
        {
          "output_type": "display_data",
          "data": {
            "image/png": "[encoded data removed]",
            "text/plain": [
              "<Figure size 432x288 with 1 Axes>"
            ]
          },
          "metadata": {
            "needs_background": "light"
          }
        },
        {
          "output_type": "stream",
          "name": "stdout",
          "text": [
            "Variance:  0.019041281326944267\n",
            "       TUITIONFEE_OUT\n",
            "count     4205.000000\n",
            "mean     16734.086326\n",
            "std      10241.052811\n",
            "min        580.000000\n",
            "25%       8984.000000\n",
            "50%      14400.000000\n",
            "75%      21160.000000\n",
            "max      74787.000000\n"
          ]
        }
      ],
      "execution_count": 145
    },
    {
      "cell_type": "markdown",
      "source": [
        "In-state and out-of-state college tuition fees are just slightly\n",
        "different. Furthermore, the histogram reveals that certain out\u0002liers exist for both variables. Before eliminating the outlier,\n",
        "we’ll go deeper into the variable."
      ],
      "metadata": {
        "nbpresent": {
          "id": "1bfab9f3-b8b6-4415-bb4b-99e6ba215f62"
        },
        "id": "wFIKPh3e-2JF",
        "application/vnd.databricks.v1+cell": {
          "title": "",
          "showTitle": false,
          "inputWidgets": {},
          "nuid": "7256fd79-5f62-4a06-a5d7-5d4bcdf6b07b"
        }
      }
    },
    {
      "cell_type": "code",
      "source": [
        "variable_to_check = \"MD_EARN_WNE_P6\"\n",
        "df['MD_EARN_WNE_P6']\n",
        "#dfplt = cleanVariable(variable_to_check)\n",
        "\n",
        "dfplt = df.copy()\n",
        "dfplt[variable_to_check] = dfplt[variable_to_check].replace(np.nan, '0')\n",
        "dfplt[variable_to_check] = dfplt[variable_to_check].replace('PrivacySuppressed', '0')\n",
        "print(dfplt)\n",
        "\n",
        "plt.hist(dfplt[variable_to_check], bins=10)\n",
        "plt.xlabel(\"Median student earning of each college\")\n",
        "plt.ylabel(\"Freq\")\n",
        "plt.title(\"Distribution of median student earning of each college\")\n",
        "plt.show()\n",
        "\n",
        "\n",
        "print(\"Variance: \", np.var(min_max_scaler.fit_transform(dfplt[[variable_to_check]]))) \n",
        "print(dfplt[[variable_to_check]].describe())"
      ],
      "metadata": {
        "colab": {
          "base_uri": "https://localhost:8080/",
          "height": 660
        },
        "id": "hZwMslcrBDCV",
        "outputId": "7ca0a91e-d7f8-4f25-faa9-81e1dbe55b74",
        "application/vnd.databricks.v1+cell": {
          "title": "",
          "showTitle": false,
          "inputWidgets": {},
          "nuid": "12cbd0d7-706c-4cb6-b8f7-6673e2a106ea"
        }
      },
      "outputs": [
        {
          "output_type": "stream",
          "name": "stdout",
          "text": [
            "        UNITID  SAT_AVG  ... CONTROL  STABBR\n",
            "0       100654    827.0  ...       1      AL\n",
            "1       100663   1107.0  ...       1      AL\n",
            "2       100690      NaN  ...       2      AL\n",
            "3       100706   1219.0  ...       1      AL\n",
            "4       100724    851.0  ...       1      AL\n",
            "...        ...      ...  ...     ...     ...\n",
            "7761  48065701      NaN  ...       3      KS\n",
            "7762  48154401      NaN  ...       3      OH\n",
            "7763  48387801      NaN  ...       3      CA\n",
            "7764  48400201      NaN  ...       3      CA\n",
            "7765  48414501      NaN  ...       3      TX\n",
            "\n",
            "[7766 rows x 15 columns]\n"
          ]
        },
        {
          "output_type": "display_data",
          "data": {
            "image/png": "[encoded data removed]",
            "text/plain": [
              "<Figure size 432x288 with 1 Axes>"
            ]
          },
          "metadata": {
            "needs_background": "light"
          }
        },
        {
          "output_type": "stream",
          "name": "stdout",
          "text": [
            "Variance:  0.013219851235900212\n",
            "       MD_EARN_WNE_P6\n",
            "count            7766\n",
            "unique            529\n",
            "top                 0\n",
            "freq             1448\n"
          ]
        }
      ],
      "execution_count": 147
    },
    {
      "cell_type": "markdown",
      "source": [
        "We can estimate that most students’ salaries\n",
        "after graduation will be in the range of 30k to 40k.\n",
        "However, there are some clear outliers, such as\n",
        "a college graduate’s maximum median salary of\n",
        "127300."
      ],
      "metadata": {
        "nbpresent": {
          "id": "ae8f1a6b-8004-45e7-bfe3-90f04b0bbb7a"
        },
        "id": "-iu3Dv4--2JG",
        "application/vnd.databricks.v1+cell": {
          "title": "",
          "showTitle": false,
          "inputWidgets": {},
          "nuid": "fe002b58-80a9-4c53-b65a-61e76d8f8b87"
        }
      }
    },
    {
      "cell_type": "code",
      "source": [
        "dff = df.copy()\n",
        "#dff = dff[dff[\"MD_EARN_WNE_P6\"] > 0]\n",
        "dff[\"INSTNM\"] = dff[\"INSTNM\"].str.upper()\n",
        "dff.drop_duplicates(\"INSTNM\", inplace=True)\n",
        "a = dff.sort_values('MD_EARN_WNE_P6', ascending=False).head(10)\n",
        "#sns.barplot(a[\"MD_EARN_WNE_P6\"], a[\"INSTNM\"], orient=\"h\")\n",
        "plt.ylabel(\"Institute name\")\n",
        "plt.xlabel(\"Median earning\")\n",
        "plt.title(\"Top 10 college by Median earning\")\n",
        "#plt.show()\n",
        "\n"
      ],
      "metadata": {
        "colab": {
          "base_uri": "https://localhost:8080/",
          "height": 314
        },
        "id": "aOcV4Rwe1RpG",
        "outputId": "af742439-f4e3-4f1d-8da3-3d5d35a56ff0",
        "application/vnd.databricks.v1+cell": {
          "title": "",
          "showTitle": false,
          "inputWidgets": {},
          "nuid": "108f53e0-dd7e-41c0-9cf1-6904c151ea37"
        }
      },
      "outputs": [
        {
          "output_type": "execute_result",
          "data": {
            "text/plain": [
              "Text(0.5, 1.0, 'Top 10 college by Median earning')"
            ]
          },
          "metadata": {},
          "execution_count": 152
        },
        {
          "output_type": "display_data",
          "data": {
            "image/png": "[encoded data removed]",
            "text/plain": [
              "<Figure size 432x288 with 1 Axes>"
            ]
          },
          "metadata": {
            "needs_background": "light"
          }
        }
      ],
      "execution_count": 152
    },
    {
      "cell_type": "markdown",
      "source": [
        "When utilizing a barplot, the outlier isn’t that notable when\n",
        "compared to the second highest. Because the top five univer\u0002sities are all linked to health and pharmacy, this barplot also\n",
        "indicates that health sciences or pharmacy-related employment\n",
        "may be among the highest-paying jobs in the US. To prove\n",
        "the hypothesis, more research is necessary."
      ],
      "metadata": {
        "nbpresent": {
          "id": "09ad53da-afb2-4ce5-8dd0-c6dd11af1c98"
        },
        "id": "dConvVF5-2JG",
        "application/vnd.databricks.v1+cell": {
          "title": "",
          "showTitle": false,
          "inputWidgets": {},
          "nuid": "4b86fc82-1c0e-4248-84c7-4db26c9fa30e"
        }
      }
    },
    {
      "cell_type": "code",
      "source": [
        "variable_to_check = \"ADM_RATE\"\n",
        "dfplt = cleanVariable(variable_to_check)\n",
        "plt.hist(dfplt[variable_to_check])\n",
        "plt.xlabel(\"Admission rate of each college\")\n",
        "plt.ylabel(\"Freq\")\n",
        "plt.title(\"Distribution of admission of each college\")\n",
        "plt.show()\n",
        "print(\"Rate of NaN: \", (len(df)-len(dfplt))/len(df)*100, \"%\")\n",
        "print(\"Value count:\")\n",
        "print(dfplt[variable_to_check].value_counts())\n",
        "print()\n",
        "print(dfplt[[variable_to_check]].describe())\n",
        "#print(\"Variance: \", np.var(min_max_scaler.fit_transform(dfplt[[variable_to_check]]))) "
      ],
      "metadata": {
        "id": "w0tbK2Qy-2JH",
        "application/vnd.databricks.v1+cell": {
          "title": "",
          "showTitle": false,
          "inputWidgets": {},
          "nuid": "0701768c-9230-4015-b988-afa8a58db80d"
        },
        "colab": {
          "base_uri": "https://localhost:8080/",
          "height": 1000
        },
        "nbpresent": {
          "id": "852c3bcd-127c-465c-912b-2b9f940b56f1"
        },
        "outputId": "53ca9abb-1ca9-46cc-811f-2657cca0deb4"
      },
      "outputs": [
        {
          "output_type": "stream",
          "name": "stdout",
          "text": [
            "0       0.5256\n",
            "1       0.8569\n",
            "2          NaN\n",
            "3       0.8203\n",
            "4       0.5326\n",
            "         ...  \n",
            "7761       NaN\n",
            "7762       NaN\n",
            "7763       NaN\n",
            "7764       NaN\n",
            "7765       NaN\n",
            "Name: ADM_RATE, Length: 7766, dtype: float64\n",
            "      UNITID  SAT_AVG  ... CONTROL  STABBR\n",
            "0     100654    827.0  ...       1      AL\n",
            "1     100663   1107.0  ...       1      AL\n",
            "3     100706   1219.0  ...       1      AL\n",
            "4     100724    851.0  ...       1      AL\n",
            "5     100751   1185.0  ...       1      AL\n",
            "...      ...      ...  ...     ...     ...\n",
            "7284  484376      NaN  ...       3      CA\n",
            "7287  484473   1156.0  ...       1      FL\n",
            "7313  484905    887.0  ...       1      TX\n",
            "7322  485078      NaN  ...       2      AZ\n",
            "7334  485272      NaN  ...       3      FL\n",
            "\n",
            "[2211 rows x 15 columns]\n"
          ]
        },
        {
          "output_type": "display_data",
          "data": {
            "image/png": "[encoded data removed]",
            "text/plain": [
              "<Figure size 432x288 with 1 Axes>"
            ]
          },
          "metadata": {
            "needs_background": "light"
          }
        },
        {
          "output_type": "stream",
          "name": "stdout",
          "text": [
            "Rate of NaN:  71.52974504249292 %\n",
            "Value count:\n",
            "1.0000    145\n",
            "0.6667     15\n",
            "0.5000      7\n",
            "0.7143      6\n",
            "0.7500      6\n",
            "         ... \n",
            "0.6947      1\n",
            "0.7209      1\n",
            "0.7864      1\n",
            "0.6267      1\n",
            "0.6531      1\n",
            "Name: ADM_RATE, Length: 1723, dtype: int64\n",
            "\n",
            "          ADM_RATE\n",
            "count  2211.000000\n",
            "mean      0.694212\n",
            "std       0.206894\n",
            "min       0.050500\n",
            "25%       0.567400\n",
            "50%       0.715300\n",
            "75%       0.846200\n",
            "max       1.000000\n"
          ]
        }
      ],
      "execution_count": 153
    },
    {
      "cell_type": "markdown",
      "source": [
        "Almost 98 percent of ADM RATE data is NaN values, and\n",
        "the variance is likewise modest, implying that the vast bulk of\n",
        "the data is identical. As a result, we choose to disregard this\n",
        "characteristic because it is irrelevant to our study."
      ],
      "metadata": {
        "nbpresent": {
          "id": "2548cd0b-499c-4998-b628-089905c4879f"
        },
        "id": "Iph2D3ko-2JH",
        "application/vnd.databricks.v1+cell": {
          "title": "",
          "showTitle": false,
          "inputWidgets": {},
          "nuid": "40cbdb0e-678e-4f26-a3d0-4c628207653e"
        }
      }
    },
    {
      "cell_type": "code",
      "source": [
        "variable_to_check = \"ACTENMID\"\n",
        "dfplt = cleanVariable(variable_to_check)\n",
        "plt.hist(dfplt[variable_to_check], bins=4)\n",
        "plt.xlabel(\"ENGLISH ACT SCORE\")\n",
        "plt.ylabel(\"Freq\")\n",
        "plt.title(\"Average English ACT score of students enrolled in different institutes\")\n",
        "plt.show()\n",
        "\n",
        "print(\"Variance: \", np.var(min_max_scaler.fit_transform(dfplt[[variable_to_check]]))) \n",
        "print(dfplt[[variable_to_check]].describe())"
      ],
      "metadata": {
        "id": "58sNPfpB-2JH",
        "application/vnd.databricks.v1+cell": {
          "title": "",
          "showTitle": false,
          "inputWidgets": {},
          "nuid": "3333f362-6cb7-4775-ba3c-c1d11703c83f"
        },
        "colab": {
          "base_uri": "https://localhost:8080/",
          "height": 953
        },
        "nbpresent": {
          "id": "190dfd02-5466-4222-a2bd-5f5933da5398"
        },
        "outputId": "c9ce1309-423c-4b2b-bec5-8440ac2dbfdf"
      },
      "outputs": [
        {
          "output_type": "stream",
          "name": "stdout",
          "text": [
            "0       17.0\n",
            "1       25.0\n",
            "2        NaN\n",
            "3       28.0\n",
            "4       17.0\n",
            "        ... \n",
            "7761     NaN\n",
            "7762     NaN\n",
            "7763     NaN\n",
            "7764     NaN\n",
            "7765     NaN\n",
            "Name: ACTENMID, Length: 7766, dtype: float64\n",
            "      UNITID  SAT_AVG  ... CONTROL  STABBR\n",
            "0     100654    827.0  ...       1      AL\n",
            "1     100663   1107.0  ...       1      AL\n",
            "3     100706   1219.0  ...       1      AL\n",
            "4     100724    851.0  ...       1      AL\n",
            "5     100751   1185.0  ...       1      AL\n",
            "...      ...      ...  ...     ...     ...\n",
            "7001  479956   1040.0  ...       1      PA\n",
            "7138  482149   1030.0  ...       1      GA\n",
            "7185  482680   1016.0  ...       1      GA\n",
            "7287  484473   1156.0  ...       1      FL\n",
            "7313  484905    887.0  ...       1      TX\n",
            "\n",
            "[1118 rows x 15 columns]\n"
          ]
        },
        {
          "output_type": "display_data",
          "data": {
            "image/png": "[encoded data removed]",
            "text/plain": [
              "<Figure size 432x288 with 1 Axes>"
            ]
          },
          "metadata": {
            "needs_background": "light"
          }
        },
        {
          "output_type": "stream",
          "name": "stdout",
          "text": [
            "Variance:  0.030899546461019868\n",
            "          ACTENMID\n",
            "count  1118.000000\n",
            "mean     22.884615\n",
            "std       3.868949\n",
            "min      13.000000\n",
            "25%      20.000000\n",
            "50%      22.000000\n",
            "75%      25.000000\n",
            "max      35.000000\n"
          ]
        }
      ],
      "execution_count": 154
    },
    {
      "cell_type": "markdown",
      "source": [
        "Every ACT is graded on a scale of 1 to 36, with 1 being\n",
        "the lowest possible score. As a result, there is no issue with\n",
        "this functionality. The majority of pupils had a 22-point ACT\n",
        "English score."
      ],
      "metadata": {
        "nbpresent": {
          "id": "8209c854-b8c2-42eb-b87b-d4a820e24789"
        },
        "id": "lYpPOEKV-2JI",
        "application/vnd.databricks.v1+cell": {
          "title": "",
          "showTitle": false,
          "inputWidgets": {},
          "nuid": "63eef4f9-42c2-431a-adf2-f590d2c96746"
        }
      }
    },
    {
      "cell_type": "code",
      "source": [
        "variable_to_check = \"ACTMTMID\"\n",
        "dfplt = cleanVariable(variable_to_check)\n",
        "plt.hist(dfplt[variable_to_check], bins=3)\n",
        "plt.xlabel(\"MATH ACT SCORE\")\n",
        "plt.ylabel(\"Freq\")\n",
        "plt.title(\"Average Math ACT score of students enrolled in different institutes\")\n",
        "plt.show()\n",
        "\n",
        "print(\"Variance: \", np.var(min_max_scaler.fit_transform(dfplt[[variable_to_check]]))) \n",
        "print(dfplt[[variable_to_check]].describe())"
      ],
      "metadata": {
        "id": "xvuhl3D6-2JI",
        "application/vnd.databricks.v1+cell": {
          "title": "",
          "showTitle": false,
          "inputWidgets": {},
          "nuid": "c4405bf5-8bbe-4e33-9551-c526def0f44b"
        },
        "colab": {
          "base_uri": "https://localhost:8080/",
          "height": 953
        },
        "nbpresent": {
          "id": "8eda3220-e4ef-48e8-a82f-f99752885569"
        },
        "outputId": "10a254ab-7670-431f-e81a-0a0f3f9daf22"
      },
      "outputs": [
        {
          "output_type": "stream",
          "name": "stdout",
          "text": [
            "0       17.0\n",
            "1       23.0\n",
            "2        NaN\n",
            "3       26.0\n",
            "4       17.0\n",
            "        ... \n",
            "7761     NaN\n",
            "7762     NaN\n",
            "7763     NaN\n",
            "7764     NaN\n",
            "7765     NaN\n",
            "Name: ACTMTMID, Length: 7766, dtype: float64\n",
            "      UNITID  SAT_AVG  ... CONTROL  STABBR\n",
            "0     100654    827.0  ...       1      AL\n",
            "1     100663   1107.0  ...       1      AL\n",
            "3     100706   1219.0  ...       1      AL\n",
            "4     100724    851.0  ...       1      AL\n",
            "5     100751   1185.0  ...       1      AL\n",
            "...      ...      ...  ...     ...     ...\n",
            "7001  479956   1040.0  ...       1      PA\n",
            "7138  482149   1030.0  ...       1      GA\n",
            "7185  482680   1016.0  ...       1      GA\n",
            "7287  484473   1156.0  ...       1      FL\n",
            "7313  484905    887.0  ...       1      TX\n",
            "\n",
            "[1120 rows x 15 columns]\n"
          ]
        },
        {
          "output_type": "display_data",
          "data": {
            "image/png": "[encoded data removed]",
            "text/plain": [
              "<Figure size 432x288 with 1 Axes>"
            ]
          },
          "metadata": {
            "needs_background": "light"
          }
        },
        {
          "output_type": "stream",
          "name": "stdout",
          "text": [
            "Variance:  0.02246692926343505\n",
            "          ACTMTMID\n",
            "count  1120.000000\n",
            "mean     22.681250\n",
            "std       3.449004\n",
            "min      13.000000\n",
            "25%      21.000000\n",
            "50%      22.000000\n",
            "75%      24.000000\n",
            "max      36.000000\n"
          ]
        }
      ],
      "execution_count": 155
    },
    {
      "cell_type": "markdown",
      "source": [
        "Every ACT is graded on a scale of 1 to 36, with 1 being the\n",
        "lowest possible score.Looking at the plot and the data, there\n",
        "is one instance when the ACT Math score is merely 1. We\n",
        "determined that this is not an exception; the lowest possible\n",
        "ACT test score is 1."
      ],
      "metadata": {
        "nbpresent": {
          "id": "da43a950-1f45-427b-b2f1-5f519524ca7c"
        },
        "id": "xPr9eljK-2JI",
        "application/vnd.databricks.v1+cell": {
          "title": "",
          "showTitle": false,
          "inputWidgets": {},
          "nuid": "488dec1b-5dd5-4b56-9f1c-9fc666404f03"
        }
      }
    },
    {
      "cell_type": "code",
      "source": [
        "variable_to_check = \"ACTWRMID\"\n",
        "dfplt = cleanVariable(variable_to_check)\n",
        "plt.hist(dfplt[variable_to_check], bins=3)\n",
        "plt.xlabel(\"WRITING ACT SCORE\")\n",
        "plt.ylabel(\"Freq\")\n",
        "plt.title(\"Average writing ACT score of students enrolled in different institutes\")\n",
        "plt.show()\n",
        "\n",
        "print(\"Variance: \", np.var(min_max_scaler.fit_transform(dfplt[[variable_to_check]]))) \n",
        "print(dfplt[[variable_to_check]].describe())"
      ],
      "metadata": {
        "id": "KapL1Y31-2JI",
        "application/vnd.databricks.v1+cell": {
          "title": "",
          "showTitle": false,
          "inputWidgets": {},
          "nuid": "3cac23fc-3206-4053-8c5d-d073dc1f661b"
        },
        "colab": {
          "base_uri": "https://localhost:8080/",
          "height": 953
        },
        "nbpresent": {
          "id": "0af1e606-2ce3-4237-8e01-8da48516f795"
        },
        "outputId": "3bcaee25-32e1-4a16-930e-0ff67e04ae33"
      },
      "outputs": [
        {
          "output_type": "stream",
          "name": "stdout",
          "text": [
            "0      NaN\n",
            "1      NaN\n",
            "2      NaN\n",
            "3      NaN\n",
            "4      NaN\n",
            "        ..\n",
            "7761   NaN\n",
            "7762   NaN\n",
            "7763   NaN\n",
            "7764   NaN\n",
            "7765   NaN\n",
            "Name: ACTWRMID, Length: 7766, dtype: float64\n",
            "      UNITID  SAT_AVG  ... CONTROL  STABBR\n",
            "5     100751   1185.0  ...       1      AL\n",
            "9     100858   1215.0  ...       1      AL\n",
            "51    102094   1048.0  ...       1      AL\n",
            "211   109785   1037.0  ...       2      CA\n",
            "275   111948   1210.0  ...       2      CA\n",
            "...      ...      ...  ...     ...     ...\n",
            "5956  449764   1031.0  ...       2      TN\n",
            "6096  451671   1105.0  ...       1      FL\n",
            "6347  456959   1112.0  ...       1      MN\n",
            "7001  479956   1040.0  ...       1      PA\n",
            "7287  484473   1156.0  ...       1      FL\n",
            "\n",
            "[303 rows x 15 columns]\n"
          ]
        },
        {
          "output_type": "display_data",
          "data": {
            "image/png": "[encoded data removed]",
            "text/plain": [
              "<Figure size 432x288 with 1 Axes>"
            ]
          },
          "metadata": {
            "needs_background": "light"
          }
        },
        {
          "output_type": "stream",
          "name": "stdout",
          "text": [
            "Variance:  0.016084003202300426\n",
            "         ACTWRMID\n",
            "count  303.000000\n",
            "mean     7.792079\n",
            "std      1.016260\n",
            "min      4.000000\n",
            "25%      7.000000\n",
            "50%      8.000000\n",
            "75%      9.000000\n",
            "max     12.000000\n"
          ]
        }
      ],
      "execution_count": 156
    },
    {
      "cell_type": "markdown",
      "source": [
        "Every ACT is graded on a scale of 1 to 36, with 1 being the\n",
        "lowest possible score. In this feature, there is an exceptional\n",
        "case with a score of 530 whereas the lowest attainable score\n",
        "is merely 36. It will be deleted from the row with which it is\n",
        "related."
      ],
      "metadata": {
        "nbpresent": {
          "id": "bdef9373-c989-4fa8-a4e8-f99a0287b855"
        },
        "id": "oxgj0LkD-2JJ",
        "application/vnd.databricks.v1+cell": {
          "title": "",
          "showTitle": false,
          "inputWidgets": {},
          "nuid": "66bb1f0b-8935-41d1-9f41-85052091d8eb"
        }
      }
    },
    {
      "cell_type": "code",
      "source": [
        "#Removing the outlier\n",
        "df_copy = df[df[\"ACTWRMID\"] != 530]"
      ],
      "metadata": {
        "nbpresent": {
          "id": "1cb0b4b3-5ffd-4a6e-8a37-75313a3ee93f"
        },
        "id": "fAE23rWO-2JJ",
        "application/vnd.databricks.v1+cell": {
          "title": "",
          "showTitle": false,
          "inputWidgets": {},
          "nuid": "70a28d42-19c8-48a1-a88a-31f975696e05"
        }
      },
      "outputs": [],
      "execution_count": 159
    },
    {
      "cell_type": "markdown",
      "source": [
        "We want to see the top 10 institutes with the highest ACT\n",
        "score after cleaning the ACT data"
      ],
      "metadata": {
        "id": "gHFlklHU-2JJ",
        "application/vnd.databricks.v1+cell": {
          "title": "",
          "showTitle": false,
          "inputWidgets": {},
          "nuid": "0aed0651-9044-4247-8b71-0954f9e8150d"
        }
      }
    },
    {
      "cell_type": "code",
      "source": [
        "dff = df_copy.copy()\n",
        "dff = dff[dff[\"ACTENMID\"] > 0]\n",
        "dff[\"INSTNM\"] = dff[\"INSTNM\"].str.upper()\n",
        "dff.drop_duplicates(\"INSTNM\", inplace=True)\n",
        "a = dff.sort_values('ACTENMID', ascending=False).head(10)\n",
        "sns.barplot(a[\"ACTENMID\"], a[\"INSTNM\"], orient=\"h\")\n",
        "plt.ylabel(\"Institute name\")\n",
        "plt.xlabel(\"ENGLISH ACT SCORE\")\n",
        "plt.title(\"Top 10 college by English ACT score\")\n",
        "plt.show()"
      ],
      "metadata": {
        "id": "u1OQOjwI-2JJ",
        "outputId": "0daa60d3-8bd9-41c8-bcd5-5b8705dacdca",
        "colab": {
          "base_uri": "https://localhost:8080/",
          "height": 295
        },
        "application/vnd.databricks.v1+cell": {
          "title": "",
          "showTitle": false,
          "inputWidgets": {},
          "nuid": "8c85e3cb-a473-4705-b2de-186c8c64899c"
        }
      },
      "outputs": [
        {
          "output_type": "display_data",
          "data": {
            "image/png": "[encoded data removed]",
            "text/plain": [
              "<Figure size 432x288 with 1 Axes>"
            ]
          },
          "metadata": {
            "needs_background": "light"
          }
        }
      ],
      "execution_count": 160
    },
    {
      "cell_type": "code",
      "source": [
        "dff = df_copy.copy()\n",
        "dff = dff[dff[\"ACTMTMID\"] > 0]\n",
        "dff[\"INSTNM\"] = dff[\"INSTNM\"].str.upper()\n",
        "dff.drop_duplicates(\"INSTNM\", inplace=True)\n",
        "a = dff.sort_values('ACTMTMID', ascending=False).head(10)\n",
        "sns.barplot(a[\"ACTMTMID\"], a[\"INSTNM\"], orient=\"h\")\n",
        "plt.ylabel(\"Institute name\")\n",
        "plt.xlabel(\"MATH ACT SCORE\")\n",
        "plt.title(\"Top 10 college by Math ACT score\")\n",
        "plt.show()"
      ],
      "metadata": {
        "id": "PNzP71_J-2JJ",
        "outputId": "651d7952-5d83-4556-fd5e-ea75fbf84bf1",
        "colab": {
          "base_uri": "https://localhost:8080/",
          "height": 295
        },
        "application/vnd.databricks.v1+cell": {
          "title": "",
          "showTitle": false,
          "inputWidgets": {},
          "nuid": "ff5af0e2-ac7c-450e-8be1-719cb7fc3db9"
        }
      },
      "outputs": [
        {
          "output_type": "display_data",
          "data": {
            "image/png": "[encoded data removed]",
            "text/plain": [
              "<Figure size 432x288 with 1 Axes>"
            ]
          },
          "metadata": {
            "needs_background": "light"
          }
        }
      ],
      "execution_count": 161
    },
    {
      "cell_type": "code",
      "source": [
        "dff = df_copy.copy()\n",
        "dff = dff[dff[\"ACTWRMID\"] > 0]\n",
        "dff[\"INSTNM\"] = dff[\"INSTNM\"].str.upper()\n",
        "dff.drop_duplicates(\"INSTNM\", inplace=True)\n",
        "a = dff.sort_values('ACTWRMID', ascending=False).head(10)\n",
        "sns.barplot(a[\"ACTWRMID\"], a[\"INSTNM\"], orient=\"h\")\n",
        "plt.ylabel(\"Institute name\")\n",
        "plt.xlabel(\"WRITING ACT SCORE\")\n",
        "plt.title(\"Top 10 college by Writing ACT score\")\n",
        "plt.show()"
      ],
      "metadata": {
        "id": "da1BOBUx-2JK",
        "outputId": "61c5c986-d734-48d5-febd-bf02d27a0b70",
        "colab": {
          "base_uri": "https://localhost:8080/",
          "height": 295
        },
        "application/vnd.databricks.v1+cell": {
          "title": "",
          "showTitle": false,
          "inputWidgets": {},
          "nuid": "e1329c97-048e-496e-a296-22e63590b067"
        }
      },
      "outputs": [
        {
          "output_type": "display_data",
          "data": {
            "image/png": "[encoded data removed]",
            "text/plain": [
              "<Figure size 432x288 with 1 Axes>"
            ]
          },
          "metadata": {
            "needs_background": "light"
          }
        }
      ],
      "execution_count": 162
    },
    {
      "cell_type": "markdown",
      "source": [
        "We can claim that schools like MIT and Harvard made it\n",
        "on the charts in Math and English ACT scores based on these\n",
        "three bar plots of the top 10 institutes with highest ACT scores\n",
        "in writing, math, and English."
      ],
      "metadata": {
        "id": "DLc2lu34-2JK",
        "application/vnd.databricks.v1+cell": {
          "title": "",
          "showTitle": false,
          "inputWidgets": {},
          "nuid": "b9fd2010-d65b-4414-9f0c-b405e386da27"
        }
      }
    },
    {
      "cell_type": "code",
      "source": [
        "variable_to_check = \"CONTROL\"\n",
        "dfplt = df_copy.copy()\n",
        "\n",
        "sns.barplot( dfplt[variable_to_check].value_counts().index, dfplt[variable_to_check].value_counts() )\n",
        "plt.ylabel(\"Count\")\n",
        "plt.title(\"Distribution of type of college\")\n",
        "plt.show()\n",
        "print(dfplt[variable_to_check].value_counts())"
      ],
      "metadata": {
        "id": "13_1qBwz-2JK",
        "application/vnd.databricks.v1+cell": {
          "title": "",
          "showTitle": false,
          "inputWidgets": {},
          "nuid": "bebdc40c-eb52-4086-bb56-5f04e397b4df"
        },
        "colab": {
          "base_uri": "https://localhost:8080/",
          "height": 354
        },
        "nbpresent": {
          "id": "e60d40c8-8506-4da2-a530-afc8b6a6caf9"
        },
        "outputId": "377d4db0-05eb-4932-c282-9780c5b4494a"
      },
      "outputs": [
        {
          "output_type": "display_data",
          "data": {
            "image/png": "[encoded data removed]",
            "text/plain": [
              "<Figure size 432x288 with 1 Axes>"
            ]
          },
          "metadata": {
            "needs_background": "light"
          }
        },
        {
          "output_type": "stream",
          "name": "stdout",
          "text": [
            "3    3717\n",
            "1    2056\n",
            "2    1993\n",
            "Name: CONTROL, dtype: int64\n"
          ]
        }
      ],
      "execution_count": 163
    },
    {
      "cell_type": "markdown",
      "source": [
        "We may deduce from the distribution of college types that\n",
        "the majority of institutions in the United States are private nonprofit. The majority are private for-profit businesses."
      ],
      "metadata": {
        "nbpresent": {
          "id": "6ab98b96-6186-4acb-942a-fba3d8c5ab45"
        },
        "id": "r0gghAbR-2JK",
        "application/vnd.databricks.v1+cell": {
          "title": "",
          "showTitle": false,
          "inputWidgets": {},
          "nuid": "bed96c2a-2e77-440d-b83a-0568e1b8aa10"
        }
      }
    },
    {
      "cell_type": "code",
      "source": [
        "asd = df_copy.copy()\n",
        "asd = asd[['INSTNM','STABBR']]\n",
        "asdd = asd.groupby('STABBR').count().sort_values('INSTNM').head(10)\n",
        "\n",
        "sns.barplot(asdd[\"INSTNM\"] , asdd.index ,orient=\"h\")\n",
        "plt.ylabel(\"State Code\")\n",
        "plt.xlabel(\"Sum of colleges in state\")\n",
        "plt.title(\"Top 10 state which has most colleges\")\n",
        "plt.show()"
      ],
      "metadata": {
        "id": "7xGCbwL_-2JL",
        "outputId": "d8e32983-5e2c-401a-c462-55d81e1a7805",
        "colab": {
          "base_uri": "https://localhost:8080/",
          "height": 295
        },
        "application/vnd.databricks.v1+cell": {
          "title": "",
          "showTitle": false,
          "inputWidgets": {},
          "nuid": "1c103078-45bf-441a-8a57-ebbb2bbb782d"
        }
      },
      "outputs": [
        {
          "output_type": "display_data",
          "data": {
            "image/png": "[encoded data removed]",
            "text/plain": [
              "<Figure size 432x288 with 1 Axes>"
            ]
          },
          "metadata": {
            "needs_background": "light"
          }
        }
      ],
      "execution_count": 164
    },
    {
      "cell_type": "markdown",
      "source": [
        "## Data Mining\n",
        "Here we attempt to find patterns and relationship among the\n",
        "features in the data set available."
      ],
      "metadata": {
        "nbpresent": {
          "id": "3b829a3f-51e1-444a-86a2-01adb468179f"
        },
        "id": "t2-xhSE9-2JL",
        "application/vnd.databricks.v1+cell": {
          "title": "",
          "showTitle": false,
          "inputWidgets": {},
          "nuid": "bcd57009-61b2-44d5-9f13-5b662da00311"
        }
      }
    },
    {
      "cell_type": "code",
      "source": [
        "inout = df_copy.copy()\n",
        "inout = inout[(inout.TUITIONFEE_IN > 0) & (inout.TUITIONFEE_OUT > 0)]\n",
        "inout = inout[['TUITIONFEE_IN','TUITIONFEE_OUT','CONTROL']]\n",
        "sns.regplot(inout.TUITIONFEE_IN,inout.TUITIONFEE_OUT,scatter=True,fit_reg=True)\n",
        "plt.xlabel(\"Tuition fee in-state\")\n",
        "plt.ylabel(\"Tuition fee out-state\")\n",
        "plt.title(\"Comparison between the tuition fees in-state and out-state\")\n",
        "plt.show()"
      ],
      "metadata": {
        "id": "jQugUI-K-2JL",
        "application/vnd.databricks.v1+cell": {
          "title": "",
          "showTitle": false,
          "inputWidgets": {},
          "nuid": "568d4542-7ff3-45ee-bf49-8cdf6815deef"
        },
        "colab": {
          "base_uri": "https://localhost:8080/",
          "height": 295
        },
        "nbpresent": {
          "id": "0fdfacba-2b89-4065-bbb9-b3d59be5926b"
        },
        "outputId": "f69e4642-5fcc-4e47-b155-6732a7a970a0"
      },
      "outputs": [
        {
          "output_type": "display_data",
          "data": {
            "image/png": "[encoded data removed]",
            "text/plain": [
              "<Figure size 432x288 with 1 Axes>"
            ]
          },
          "metadata": {
            "needs_background": "light"
          }
        }
      ],
      "execution_count": 165
    },
    {
      "cell_type": "markdown",
      "source": [
        "It appears that there are two sets of data points, where only\n",
        "data points are precisely aligned on the x=y line, indicating\n",
        "that both institutions’ tuition fees are the same. We may deduce\n",
        "from this graph that certain universities may charge out-of\u0002state students a greater tuition rate"
      ],
      "metadata": {
        "nbpresent": {
          "id": "0fd78178-e981-4e57-a5d1-0ea2d67e2072"
        },
        "id": "XGEsymXd-2JL",
        "application/vnd.databricks.v1+cell": {
          "title": "",
          "showTitle": false,
          "inputWidgets": {},
          "nuid": "90246b23-1140-4815-8154-92e884bc0d4e"
        }
      }
    },
    {
      "cell_type": "code",
      "source": [
        "sns.lmplot(x=\"TUITIONFEE_IN\",y=\"TUITIONFEE_OUT\",col=\"CONTROL\",data = inout,truncate=True)\n",
        "plt.show()"
      ],
      "metadata": {
        "id": "SZc74DsF-2JM",
        "application/vnd.databricks.v1+cell": {
          "title": "",
          "showTitle": false,
          "inputWidgets": {},
          "nuid": "ceeb510c-c9b2-4bff-b6b7-9f3da1f181b6"
        },
        "colab": {
          "base_uri": "https://localhost:8080/",
          "height": 369
        },
        "scrolled": false,
        "nbpresent": {
          "id": "7348d411-18d7-45c3-ba71-3d90635ba670"
        },
        "outputId": "c87a7fd7-64dc-4f9a-9912-192e0e1ba447"
      },
      "outputs": [
        {
          "output_type": "display_data",
          "data": {
            "image/png": "[encoded data removed]",
            "text/plain": [
              "<Figure size 1080x360 with 3 Axes>"
            ]
          },
          "metadata": {
            "needs_background": "light"
          }
        }
      ],
      "execution_count": 166
    },
    {
      "cell_type": "markdown",
      "source": [
        "According to the graph above, approximately 30% of private for-profit and 55% of private non-profit share the same fee cost for both in-state and out-of-state study, while only 5% of public institutions share the same fee. The plot indicates how many points are on the line."
      ],
      "metadata": {
        "nbpresent": {
          "id": "110d9428-da57-4693-9937-538508416a52"
        },
        "id": "tKZwtDpO-2JM",
        "application/vnd.databricks.v1+cell": {
          "title": "",
          "showTitle": false,
          "inputWidgets": {},
          "nuid": "29af0d65-e954-4af3-8d69-33e042dd885a"
        }
      }
    },
    {
      "cell_type": "code",
      "source": [
        "inout.groupby('CONTROL').mean()"
      ],
      "metadata": {
        "id": "aM4apWNc-2JM",
        "application/vnd.databricks.v1+cell": {
          "title": "",
          "showTitle": false,
          "inputWidgets": {},
          "nuid": "8377f0ef-447c-4292-8f83-bc8d37c5aad6"
        },
        "colab": {
          "base_uri": "https://localhost:8080/",
          "height": 175
        },
        "nbpresent": {
          "id": "84876da4-f275-4174-bbf0-691b8d429db9"
        },
        "outputId": "8a983883-1fe6-4be5-c1d9-52027df08e57"
      },
      "outputs": [
        {
          "output_type": "execute_result",
          "data": {
            "text/html": [
              "\n",
              "  <div id=\"df-65c7568e-1797-4e7e-a6c4-594477c822f8\">\n",
              "    <div class=\"colab-df-container\">\n",
              "      <div>\n",
              "<style scoped>\n",
              "    .dataframe tbody tr th:only-of-type {\n",
              "        vertical-align: middle;\n",
              "    }\n",
              "\n",
              "    .dataframe tbody tr th {\n",
              "        vertical-align: top;\n",
              "    }\n",
              "\n",
              "    .dataframe thead th {\n",
              "        text-align: right;\n",
              "    }\n",
              "</style>\n",
              "<table border=\"1\" class=\"dataframe\">\n",
              "  <thead>\n",
              "    <tr style=\"text-align: right;\">\n",
              "      <th></th>\n",
              "      <th>TUITIONFEE_IN</th>\n",
              "      <th>TUITIONFEE_OUT</th>\n",
              "    </tr>\n",
              "    <tr>\n",
              "      <th>CONTROL</th>\n",
              "      <th></th>\n",
              "      <th></th>\n",
              "    </tr>\n",
              "  </thead>\n",
              "  <tbody>\n",
              "    <tr>\n",
              "      <th>1</th>\n",
              "      <td>5155.611940</td>\n",
              "      <td>11606.460896</td>\n",
              "    </tr>\n",
              "    <tr>\n",
              "      <th>2</th>\n",
              "      <td>23874.374570</td>\n",
              "      <td>23906.045361</td>\n",
              "    </tr>\n",
              "    <tr>\n",
              "      <th>3</th>\n",
              "      <td>15012.125581</td>\n",
              "      <td>15016.479070</td>\n",
              "    </tr>\n",
              "  </tbody>\n",
              "</table>\n",
              "</div>\n",
              "      <button class=\"colab-df-convert\" onclick=\"convertToInteractive('df-65c7568e-1797-4e7e-a6c4-594477c822f8')\"\n",
              "              title=\"Convert this dataframe to an interactive table.\"\n",
              "              style=\"display:none;\">\n",
              "        \n",
              "  <svg xmlns=\"http://www.w3.org/2000/svg\" height=\"24px\"viewBox=\"0 0 24 24\"\n",
              "       width=\"24px\">\n",
              "    <path d=\"M0 0h24v24H0V0z\" fill=\"none\"/>\n",
              "    <path d=\"M18.56 5.44l.94 2.06.94-2.06 2.06-.94-2.06-.94-.94-2.06-.94 2.06-2.06.94zm-11 1L8.5 8.5l.94-2.06 2.06-.94-2.06-.94L8.5 2.5l-.94 2.06-2.06.94zm10 10l.94 2.06.94-2.06 2.06-.94-2.06-.94-.94-2.06-.94 2.06-2.06.94z\"/><path d=\"M17.41 7.96l-1.37-1.37c-.4-.4-.92-.59-1.43-.59-.52 0-1.04.2-1.43.59L10.3 9.45l-7.72 7.72c-.78.78-.78 2.05 0 2.83L4 21.41c.39.39.9.59 1.41.59.51 0 1.02-.2 1.41-.59l7.78-7.78 2.81-2.81c.8-.78.8-2.07 0-2.86zM5.41 20L4 18.59l7.72-7.72 1.47 1.35L5.41 20z\"/>\n",
              "  </svg>\n",
              "      </button>\n",
              "      \n",
              "  <style>\n",
              "    .colab-df-container {\n",
              "      display:flex;\n",
              "      flex-wrap:wrap;\n",
              "      gap: 12px;\n",
              "    }\n",
              "\n",
              "    .colab-df-convert {\n",
              "      background-color: #E8F0FE;\n",
              "      border: none;\n",
              "      border-radius: 50%;\n",
              "      cursor: pointer;\n",
              "      display: none;\n",
              "      fill: #1967D2;\n",
              "      height: 32px;\n",
              "      padding: 0 0 0 0;\n",
              "      width: 32px;\n",
              "    }\n",
              "\n",
              "    .colab-df-convert:hover {\n",
              "      background-color: #E2EBFA;\n",
              "      box-shadow: 0px 1px 2px rgba(60, 64, 67, 0.3), 0px 1px 3px 1px rgba(60, 64, 67, 0.15);\n",
              "      fill: #174EA6;\n",
              "    }\n",
              "\n",
              "    [theme=dark] .colab-df-convert {\n",
              "      background-color: #3B4455;\n",
              "      fill: #D2E3FC;\n",
              "    }\n",
              "\n",
              "    [theme=dark] .colab-df-convert:hover {\n",
              "      background-color: #434B5C;\n",
              "      box-shadow: 0px 1px 3px 1px rgba(0, 0, 0, 0.15);\n",
              "      filter: drop-shadow(0px 1px 2px rgba(0, 0, 0, 0.3));\n",
              "      fill: #FFFFFF;\n",
              "    }\n",
              "  </style>\n",
              "\n",
              "      <script>\n",
              "        const buttonEl =\n",
              "          document.querySelector('#df-65c7568e-1797-4e7e-a6c4-594477c822f8 button.colab-df-convert');\n",
              "        buttonEl.style.display =\n",
              "          google.colab.kernel.accessAllowed ? 'block' : 'none';\n",
              "\n",
              "        async function convertToInteractive(key) {\n",
              "          const element = document.querySelector('#df-65c7568e-1797-4e7e-a6c4-594477c822f8');\n",
              "          const dataTable =\n",
              "            await google.colab.kernel.invokeFunction('convertToInteractive',\n",
              "                                                     [key], {});\n",
              "          if (!dataTable) return;\n",
              "\n",
              "          const docLinkHtml = 'Like what you see? Visit the ' +\n",
              "            '<a target=\"_blank\" href=https://colab.research.google.com/notebooks/data_table.ipynb>data table notebook</a>'\n",
              "            + ' to learn more about interactive tables.';\n",
              "          element.innerHTML = '';\n",
              "          dataTable['output_type'] = 'display_data';\n",
              "          await google.colab.output.renderOutput(dataTable, element);\n",
              "          const docLink = document.createElement('div');\n",
              "          docLink.innerHTML = docLinkHtml;\n",
              "          element.appendChild(docLink);\n",
              "        }\n",
              "      </script>\n",
              "    </div>\n",
              "  </div>\n",
              "  "
            ],
            "text/plain": [
              "         TUITIONFEE_IN  TUITIONFEE_OUT\n",
              "CONTROL                               \n",
              "1          5155.611940    11606.460896\n",
              "2         23874.374570    23906.045361\n",
              "3         15012.125581    15016.479070"
            ]
          },
          "metadata": {},
          "execution_count": 167
        }
      ],
      "execution_count": 167
    },
    {
      "cell_type": "markdown",
      "source": [
        "After analysis for all of the institution, we further our analysis to calculate the mean for both in and outstate tution fee cost.There is almost no in-state out-state fee difference for private instituions while for public institutions the out state fee is approximate twice compare with instate fee. <br><br>"
      ],
      "metadata": {
        "nbpresent": {
          "id": "87795b6a-d72e-4ddd-b739-83a41d30d00a"
        },
        "id": "SwSUgAd1-2JM",
        "application/vnd.databricks.v1+cell": {
          "title": "",
          "showTitle": false,
          "inputWidgets": {},
          "nuid": "df6e69a7-c76a-4e0c-8c88-bde559d28f8b"
        }
      }
    },
    {
      "cell_type": "code",
      "source": [
        "asd = df_copy.copy()\n",
        "asd = asd[asd['UNEMP_RATE']>0]\n",
        "asd = asd[['INSTNM','STABBR','UNEMP_RATE']]\n",
        "\n",
        "asd[\"INSTNM\"] = asd[\"INSTNM\"].str.upper()\n",
        "asd = asd.sort_values('UNEMP_RATE',ascending=False)\n",
        "asd.drop_duplicates(\"INSTNM\", inplace=True)\n",
        "asd.head(5)"
      ],
      "metadata": {
        "id": "OLxppTrH-2JM",
        "application/vnd.databricks.v1+cell": {
          "title": "",
          "showTitle": false,
          "inputWidgets": {},
          "nuid": "295e4dcf-9b22-4b29-a972-7b2a8bb0053c"
        },
        "colab": {
          "base_uri": "https://localhost:8080/",
          "height": 49
        },
        "nbpresent": {
          "id": "463672c6-f087-44ad-96d6-053d0e12c5c0"
        },
        "outputId": "5b16bb50-6539-4bc7-ddbc-761302f8024c"
      },
      "outputs": [
        {
          "output_type": "execute_result",
          "data": {
            "text/html": [
              "\n",
              "  <div id=\"df-4909a9dc-626e-42e8-a2f8-a53f43e19435\">\n",
              "    <div class=\"colab-df-container\">\n",
              "      <div>\n",
              "<style scoped>\n",
              "    .dataframe tbody tr th:only-of-type {\n",
              "        vertical-align: middle;\n",
              "    }\n",
              "\n",
              "    .dataframe tbody tr th {\n",
              "        vertical-align: top;\n",
              "    }\n",
              "\n",
              "    .dataframe thead th {\n",
              "        text-align: right;\n",
              "    }\n",
              "</style>\n",
              "<table border=\"1\" class=\"dataframe\">\n",
              "  <thead>\n",
              "    <tr style=\"text-align: right;\">\n",
              "      <th></th>\n",
              "      <th>INSTNM</th>\n",
              "      <th>STABBR</th>\n",
              "      <th>UNEMP_RATE</th>\n",
              "    </tr>\n",
              "  </thead>\n",
              "  <tbody>\n",
              "  </tbody>\n",
              "</table>\n",
              "</div>\n",
              "      <button class=\"colab-df-convert\" onclick=\"convertToInteractive('df-4909a9dc-626e-42e8-a2f8-a53f43e19435')\"\n",
              "              title=\"Convert this dataframe to an interactive table.\"\n",
              "              style=\"display:none;\">\n",
              "        \n",
              "  <svg xmlns=\"http://www.w3.org/2000/svg\" height=\"24px\"viewBox=\"0 0 24 24\"\n",
              "       width=\"24px\">\n",
              "    <path d=\"M0 0h24v24H0V0z\" fill=\"none\"/>\n",
              "    <path d=\"M18.56 5.44l.94 2.06.94-2.06 2.06-.94-2.06-.94-.94-2.06-.94 2.06-2.06.94zm-11 1L8.5 8.5l.94-2.06 2.06-.94-2.06-.94L8.5 2.5l-.94 2.06-2.06.94zm10 10l.94 2.06.94-2.06 2.06-.94-2.06-.94-.94-2.06-.94 2.06-2.06.94z\"/><path d=\"M17.41 7.96l-1.37-1.37c-.4-.4-.92-.59-1.43-.59-.52 0-1.04.2-1.43.59L10.3 9.45l-7.72 7.72c-.78.78-.78 2.05 0 2.83L4 21.41c.39.39.9.59 1.41.59.51 0 1.02-.2 1.41-.59l7.78-7.78 2.81-2.81c.8-.78.8-2.07 0-2.86zM5.41 20L4 18.59l7.72-7.72 1.47 1.35L5.41 20z\"/>\n",
              "  </svg>\n",
              "      </button>\n",
              "      \n",
              "  <style>\n",
              "    .colab-df-container {\n",
              "      display:flex;\n",
              "      flex-wrap:wrap;\n",
              "      gap: 12px;\n",
              "    }\n",
              "\n",
              "    .colab-df-convert {\n",
              "      background-color: #E8F0FE;\n",
              "      border: none;\n",
              "      border-radius: 50%;\n",
              "      cursor: pointer;\n",
              "      display: none;\n",
              "      fill: #1967D2;\n",
              "      height: 32px;\n",
              "      padding: 0 0 0 0;\n",
              "      width: 32px;\n",
              "    }\n",
              "\n",
              "    .colab-df-convert:hover {\n",
              "      background-color: #E2EBFA;\n",
              "      box-shadow: 0px 1px 2px rgba(60, 64, 67, 0.3), 0px 1px 3px 1px rgba(60, 64, 67, 0.15);\n",
              "      fill: #174EA6;\n",
              "    }\n",
              "\n",
              "    [theme=dark] .colab-df-convert {\n",
              "      background-color: #3B4455;\n",
              "      fill: #D2E3FC;\n",
              "    }\n",
              "\n",
              "    [theme=dark] .colab-df-convert:hover {\n",
              "      background-color: #434B5C;\n",
              "      box-shadow: 0px 1px 3px 1px rgba(0, 0, 0, 0.15);\n",
              "      filter: drop-shadow(0px 1px 2px rgba(0, 0, 0, 0.3));\n",
              "      fill: #FFFFFF;\n",
              "    }\n",
              "  </style>\n",
              "\n",
              "      <script>\n",
              "        const buttonEl =\n",
              "          document.querySelector('#df-4909a9dc-626e-42e8-a2f8-a53f43e19435 button.colab-df-convert');\n",
              "        buttonEl.style.display =\n",
              "          google.colab.kernel.accessAllowed ? 'block' : 'none';\n",
              "\n",
              "        async function convertToInteractive(key) {\n",
              "          const element = document.querySelector('#df-4909a9dc-626e-42e8-a2f8-a53f43e19435');\n",
              "          const dataTable =\n",
              "            await google.colab.kernel.invokeFunction('convertToInteractive',\n",
              "                                                     [key], {});\n",
              "          if (!dataTable) return;\n",
              "\n",
              "          const docLinkHtml = 'Like what you see? Visit the ' +\n",
              "            '<a target=\"_blank\" href=https://colab.research.google.com/notebooks/data_table.ipynb>data table notebook</a>'\n",
              "            + ' to learn more about interactive tables.';\n",
              "          element.innerHTML = '';\n",
              "          dataTable['output_type'] = 'display_data';\n",
              "          await google.colab.output.renderOutput(dataTable, element);\n",
              "          const docLink = document.createElement('div');\n",
              "          docLink.innerHTML = docLinkHtml;\n",
              "          element.appendChild(docLink);\n",
              "        }\n",
              "      </script>\n",
              "    </div>\n",
              "  </div>\n",
              "  "
            ],
            "text/plain": [
              "Empty DataFrame\n",
              "Columns: [INSTNM, STABBR, UNEMP_RATE]\n",
              "Index: []"
            ]
          },
          "metadata": {},
          "execution_count": 168
        }
      ],
      "execution_count": 168
    },
    {
      "cell_type": "markdown",
      "source": [
        "From the table, we are able to find out the institute with the top 5 highest unemployment rate, these are probably the college that we gonna avoid as we would want a low unemployment rate college."
      ],
      "metadata": {
        "nbpresent": {
          "id": "8bebd01b-0893-4bd6-aff8-bec91bfee593"
        },
        "id": "Tkwex66N-2JM",
        "application/vnd.databricks.v1+cell": {
          "title": "",
          "showTitle": false,
          "inputWidgets": {},
          "nuid": "1191fc65-b288-427c-b22c-efeda80d51fb"
        }
      }
    },
    {
      "cell_type": "markdown",
      "source": [
        "## Which sector of ACT scores contributes the most to the income?\n",
        "Here we will explore linear regression model."
      ],
      "metadata": {
        "id": "kXP5laTA-2JN",
        "application/vnd.databricks.v1+cell": {
          "title": "",
          "showTitle": false,
          "inputWidgets": {},
          "nuid": "ec91ea3a-59fc-4b86-9958-2287b740070a"
        }
      }
    },
    {
      "cell_type": "code",
      "source": [
        "dfplt = df_copy.copy()\n",
        "dfplt = dfplt[(dfplt.ACTENMID > 0)  & (dfplt.ACTMTMID > 0) & (dfplt.ACTWRMID > 0) & (dfplt['MD_EARN_WNE_P6']>0)]\n",
        "math = plt.plot(dfplt['ACTMTMID'], dfplt.MD_EARN_WNE_P6, 'ro', label = \"math\")\n",
        "writing = plt.plot(dfplt['ACTWRMID'], dfplt.MD_EARN_WNE_P6, 'go', label = \"writing\")\n",
        "english = plt.plot(dfplt['ACTENMID'], dfplt.MD_EARN_WNE_P6, 'bo', label = \"english\")\n",
        "plt.title(\"Relationship between ACT and Earning\")\n",
        "plt.xlabel(\"ACT\")\n",
        "plt.ylabel(\"Earning\")\n",
        "plt.legend()\n",
        "plt.show()"
      ],
      "metadata": {
        "id": "2hf7AIZE-2JN",
        "application/vnd.databricks.v1+cell": {
          "title": "",
          "showTitle": false,
          "inputWidgets": {},
          "nuid": "22a128d4-0708-458a-bbb3-e55a89a2bea5"
        },
        "nbpresent": {
          "id": "bea1b9dd-d037-4ea8-97f3-edb1a55bc025"
        }
      },
      "outputs": [],
      "execution_count": null
    },
    {
      "cell_type": "markdown",
      "source": [
        "We could see from the plot above that ACT scores may\n",
        "have a big impact on future earnings. As a result, for the time\n",
        "being, it may be appropriate for training our prediction model."
      ],
      "metadata": {
        "nbpresent": {
          "id": "769aa339-5c30-452a-b689-58b1922267d1"
        },
        "id": "FN-_IQuf-2JN",
        "application/vnd.databricks.v1+cell": {
          "title": "",
          "showTitle": false,
          "inputWidgets": {},
          "nuid": "213868af-6b14-410b-83ad-24ca67c98018"
        }
      }
    },
    {
      "cell_type": "markdown",
      "source": [
        "## Does tuition fee really affect the in\u0002come of a student once they graduate?"
      ],
      "metadata": {
        "id": "_CfgnmAK-2JN",
        "application/vnd.databricks.v1+cell": {
          "title": "",
          "showTitle": false,
          "inputWidgets": {},
          "nuid": "9cd9e326-d005-40a4-8d31-f33d05aae08e"
        }
      }
    },
    {
      "cell_type": "code",
      "source": [
        "Sat_6yEarn = df_copy[(df_copy.SAT_AVG > 0) & (df_copy.MD_EARN_WNE_P6 > 0) ]\n",
        "plt.scatter(Sat_6yEarn['SAT_AVG'], Sat_6yEarn['MD_EARN_WNE_P6'])\n",
        "plt.xlabel('SAT_AVG')\n",
        "plt.ylabel('MD_EARN_WNE_P6')\n",
        "plt.title(\"Relationship  between Average SAT Score and Earning\")\n",
        "plt.xlabel(\"Average SAT Score\")\n",
        "plt.ylabel(\"Earning\")\n",
        "plt.show()\n",
        "\n",
        "#clearly an increasing sign"
      ],
      "metadata": {
        "id": "S8qV51Kd-2JN",
        "application/vnd.databricks.v1+cell": {
          "title": "",
          "showTitle": false,
          "inputWidgets": {},
          "nuid": "c0d1117b-1610-497b-a06a-3abf34879162"
        },
        "nbpresent": {
          "id": "d1cf90b1-bd8f-4c69-9a1f-0758fee7588d"
        }
      },
      "outputs": [],
      "execution_count": null
    },
    {
      "cell_type": "markdown",
      "source": [
        "## Does tuition fee really affect the income of a student once they graduate?"
      ],
      "metadata": {
        "id": "TCYQlDZ7-2JO",
        "application/vnd.databricks.v1+cell": {
          "title": "",
          "showTitle": false,
          "inputWidgets": {},
          "nuid": "90e62d16-0da0-4764-8742-f68c7115d3f4"
        }
      }
    },
    {
      "cell_type": "code",
      "source": [
        "#find if Tuition fee affect Earning\n",
        "Tui_6yEarn = df_copy[(df_copy.TUITIONFEE_PROG > 0) & (df_copy.MD_EARN_WNE_P6 > 0) ]\n",
        "plt.scatter(Tui_6yEarn['TUITIONFEE_PROG'], Tui_6yEarn['MD_EARN_WNE_P6'])\n",
        "plt.xlabel('Tuition Fee')\n",
        "plt.ylabel('Earning')\n",
        "plt.title(\"Relationship  between Tuition Fee and Earning\")\n",
        "plt.show()\n"
      ],
      "metadata": {
        "id": "MW6L2Hxi-2JO",
        "application/vnd.databricks.v1+cell": {
          "title": "",
          "showTitle": false,
          "inputWidgets": {},
          "nuid": "2350b65a-14a7-4dd3-9582-4f629994b8e6"
        },
        "nbpresent": {
          "id": "d5223136-adf8-4c35-8330-81d66a77a9b4"
        }
      },
      "outputs": [],
      "execution_count": null
    },
    {
      "cell_type": "code",
      "source": [
        "ACT3_6yEarn = df_copy[(df_copy.ACTENMID > 0)  & (df_copy.ACTMTMID > 0) & (df_copy.ACTWRMID > 0) & (df_copy.MD_EARN_WNE_P6 > 0) ]\n",
        "acs = ACT3_6yEarn.sort_values(['ACTENMID', 'ACTMTMID', 'ACTWRMID'], ascending = False).head(10)\n",
        "des = ACT3_6yEarn.sort_values(['ACTENMID', 'ACTMTMID', 'ACTWRMID'], ascending = True).head(10)\n",
        "top = plt.plot(acs['MD_EARN_WNE_P6'],'ro', label=\"Top10\")\n",
        "btn = plt.plot(des['MD_EARN_WNE_P6'],'bo', label=\"Worst10\")  \n",
        "\n",
        "plt.title(\"Top10 ACT score compare with Worst10 ACT score(Earning in 6 years)\")\n",
        "plt.legend()\n",
        "plt.ylabel('Earning')\n",
        "plt.show()\n",
        "#red mean the top 10 ACT score in read, writing and english\n",
        "#blue mean the least 10 ACT score in read, writing and english\n",
        "#clearly we can know that red earn high than blue"
      ],
      "metadata": {
        "id": "OR5kWVc2-2JO",
        "application/vnd.databricks.v1+cell": {
          "title": "",
          "showTitle": false,
          "inputWidgets": {},
          "nuid": "1e96fdb3-c19a-4168-8829-c1cd0fceea80"
        },
        "nbpresent": {
          "id": "b02a336d-842f-416f-a277-a4f3fcb5236f"
        }
      },
      "outputs": [],
      "execution_count": null
    },
    {
      "cell_type": "markdown",
      "source": [
        "## What are the prospects of earning in a private college compared to a public one?"
      ],
      "metadata": {
        "id": "X1rJAQDw-2JP",
        "application/vnd.databricks.v1+cell": {
          "title": "",
          "showTitle": false,
          "inputWidgets": {},
          "nuid": "8929e7de-b976-47ba-889b-7603b3d981ba"
        }
      }
    },
    {
      "cell_type": "code",
      "source": [
        "public = df_copy[(df_copy.CONTROL == 'Public')]\n",
        "private_np = df_copy[(df_copy.CONTROL == 'Private nonprofit')]\n",
        "private_p = df_copy[(df_copy.CONTROL == 'Private for-profit')]\n",
        "public = public[public.MD_EARN_WNE_P6 > 0]\n",
        "private_np = private_np[private_np.MD_EARN_WNE_P6 > 0]\n",
        "private_p = private_p[private_p.MD_EARN_WNE_P6 > 0]\n",
        "x = sum(public['MD_EARN_WNE_P6'])/sen(public)\n",
        "y = sum(private_np['MD_EARN_WNE_P6'])/len(private_np)\n",
        "z = sum(private_p['MD_EARN_WNE_P6'])/len(private_p)\n",
        "dictionary = plt.figure()\n",
        "\n",
        "D = {u'Public':x, u'Private for non profit': y, u'Private for profit':z}\n",
        "\n",
        "plt.title(\"Comparison between Public and Private College (Earning)\")\n",
        "plt.bar(range(len(D)), D.values(), align='center')\n",
        "plt.xticks(range(len(D)), D.keys())\n",
        "plt.ylabel('Earning')\n",
        "plt.show()"
      ],
      "metadata": {
        "id": "GIavGD6h-2JP",
        "application/vnd.databricks.v1+cell": {
          "title": "",
          "showTitle": false,
          "inputWidgets": {},
          "nuid": "53689e5b-48bf-454e-9b1e-5a87f2ed5135"
        },
        "nbpresent": {
          "id": "f420356b-3537-4b1e-98f6-b390208be12a"
        }
      },
      "outputs": [],
      "execution_count": null
    },
    {
      "cell_type": "markdown",
      "source": [
        "# Linear Regression\n",
        "\n",
        "We aim to forecast future income\n",
        "levels using a linear regression model focused on the ACT\n",
        "score. We chose the ACT score since we discovered that it\n",
        "had a considerable impact on graduate earnings"
      ],
      "metadata": {
        "nbpresent": {
          "id": "28ef4397-42a4-4757-bf37-c40edfd3e968"
        },
        "id": "vp2GQDJX-2JP",
        "application/vnd.databricks.v1+cell": {
          "title": "",
          "showTitle": false,
          "inputWidgets": {},
          "nuid": "dbd3cfee-6ef8-4cdb-969a-1b1ccebab1cf"
        }
      }
    },
    {
      "cell_type": "code",
      "source": [
        "linear_data = df_copy.copy()\n",
        "linear_data = linear_data[(linear_data.ACTENMID > 0)  & (linear_data.ACTMTMID > 0) & (linear_data.ACTWRMID > 0) & (linear_data['MD_EARN_WNE_P6']>0)]\n",
        "linear_data = linear_data[['ACTENMID', 'ACTMTMID', 'ACTWRMID','MD_EARN_WNE_P6']]\n",
        "\n",
        "from sklearn.linear_model import LinearRegression\n",
        "x = linear_data.drop('MD_EARN_WNE_P6' , axis = 1)\n",
        "lm = LinearRegression()\n",
        "lm.fit(x,linear_data.MD_EARN_WNE_P6)\n",
        "\n",
        "print ('Estimated intercept', len(lm.coef_))\n",
        "a = pd.DataFrame(list(zip(x.columns, lm.coef_)), columns = ['Subject', 'coeficient'])\n",
        "print(a)\n",
        "#since ACT math is the highest coeficient, hence we plot ACT math\n",
        "\n",
        "plt.scatter(linear_data.ACTMTMID, linear_data.MD_EARN_WNE_P6)\n",
        "plt.xlabel(\"Math ACT score\")\n",
        "plt.ylabel(\"Earning in 6 years\")\n",
        "plt.title(\"Relationship between Math ACT score and Earning in 6 years (actual)\")\n",
        "plt.show()"
      ],
      "metadata": {
        "id": "UABJ0-n--2JP",
        "application/vnd.databricks.v1+cell": {
          "title": "",
          "showTitle": false,
          "inputWidgets": {},
          "nuid": "bc20c936-3597-4e20-ac07-9ba49a1d8cda"
        },
        "nbpresent": {
          "id": "4d6ad994-1feb-4ea7-a3ff-c7f67da9ee02"
        }
      },
      "outputs": [],
      "execution_count": null
    },
    {
      "cell_type": "markdown",
      "source": [
        "We can deduce from the dataframe above that math has\n",
        "the largest coeficient, thus we’ll look at solely Math ACT\n",
        "scores rather than all ACT scores as we did before. Because\n",
        "the math ACT score has the maximum coeficient, we could\n",
        "train our model using that score or a combination of the three\n",
        "ACT scores. Later, we’ll make a decision depending on their\n",
        "performance"
      ],
      "metadata": {
        "nbpresent": {
          "id": "676b30a5-35d3-4d01-a862-32e63b200b05"
        },
        "id": "lLm4M-N7-2JP",
        "application/vnd.databricks.v1+cell": {
          "title": "",
          "showTitle": false,
          "inputWidgets": {},
          "nuid": "27c1779e-df54-468a-bc4d-38c4f63c00e3"
        }
      }
    },
    {
      "cell_type": "code",
      "source": [
        "lm.predict(x)[0:328]\n",
        "plt.scatter(linear_data.ACTMTMID, lm.predict(x))\n",
        "plt.xlabel(\"Math ACT score\")\n",
        "plt.ylabel(\"Earning in 6 years\")\n",
        "plt.title(\"Relationship between Math ACT score and Earning in 6 years (predict)\")\n",
        "plt.show()"
      ],
      "metadata": {
        "id": "_Ebujx1x-2JQ",
        "application/vnd.databricks.v1+cell": {
          "title": "",
          "showTitle": false,
          "inputWidgets": {},
          "nuid": "755fae76-ad05-4ad3-8ee4-6107935ffb88"
        },
        "nbpresent": {
          "id": "eb9c6afb-8847-46b4-9702-212488e2037e"
        }
      },
      "outputs": [],
      "execution_count": null
    },
    {
      "cell_type": "code",
      "source": [
        "y = linear_data.drop(['MD_EARN_WNE_P6'] , axis = 1)\n",
        "lm = LinearRegression()\n",
        "lm.fit(y[['ACTMTMID']],linear_data.MD_EARN_WNE_P6)\n",
        "\n",
        "msemath = np.mean((linear_data.MD_EARN_WNE_P6 - lm.predict(y[['ACTMTMID']])) ** 2)\n",
        "print(\"Math mean square error = \", msemath)\n",
        "\n",
        "lm.fit(y,linear_data.MD_EARN_WNE_P6)\n",
        "msefull = np.mean((linear_data.MD_EARN_WNE_P6 - lm.predict(y)) ** 2)\n",
        "print(\"Full mean square error = \", msefull)"
      ],
      "metadata": {
        "id": "DVd1IPyj-2JQ",
        "application/vnd.databricks.v1+cell": {
          "title": "",
          "showTitle": false,
          "inputWidgets": {},
          "nuid": "0eda11e4-7d2b-406b-af39-fceb05a56e26"
        },
        "nbpresent": {
          "id": "b2beb323-bf29-4280-a853-dd29afb1008a"
        }
      },
      "outputs": [],
      "execution_count": null
    },
    {
      "cell_type": "markdown",
      "source": [
        "input 3 values perform better, hence we will try to build our model by considering both 3 ACT values"
      ],
      "metadata": {
        "nbpresent": {
          "id": "d9aec8f1-6060-4c90-a708-45232924efcb"
        },
        "id": "V7nzuwIL-2JQ",
        "application/vnd.databricks.v1+cell": {
          "title": "",
          "showTitle": false,
          "inputWidgets": {},
          "nuid": "a4165b98-0447-4e3c-bb40-099813c12dc1"
        }
      }
    },
    {
      "cell_type": "code",
      "source": [
        "import sklearn.cross_validation\n",
        "x_train, x_test, y_train, y_test = sklearn.cross_validation.train_test_split(x, linear_data.MD_EARN_WNE_P6, test_size = 0.33, random_state = 5)\n",
        "print(x_train.shape)\n",
        "print(x_test.shape) \n",
        "print(y_train.shape)\n",
        "print(y_test.shape)"
      ],
      "metadata": {
        "id": "Yl69Asv0-2JQ",
        "application/vnd.databricks.v1+cell": {
          "title": "",
          "showTitle": false,
          "inputWidgets": {},
          "nuid": "4632b39e-0cdc-47f4-a520-256b49b3164f"
        },
        "nbpresent": {
          "id": "aca5ff27-3885-4660-bbb1-e584624dd322"
        }
      },
      "outputs": [],
      "execution_count": null
    },
    {
      "cell_type": "markdown",
      "source": [
        "We try to split the data into training and test set. Then, we find the shape of the training and testing to make sure our training and testing dataset is ready."
      ],
      "metadata": {
        "nbpresent": {
          "id": "1830d3ec-bba8-4a3c-a46e-ee7a81783bc8"
        },
        "id": "HDR1TS5C-2JR",
        "application/vnd.databricks.v1+cell": {
          "title": "",
          "showTitle": false,
          "inputWidgets": {},
          "nuid": "b6428720-f7d2-4ff7-9589-32c9dd79d891"
        }
      }
    },
    {
      "cell_type": "code",
      "source": [
        "lm = LinearRegression()\n",
        "lm.fit(x_train, y_train)\n",
        "pred_train = lm.predict(x_train)\n",
        "pred_test = lm.predict(x_test)"
      ],
      "metadata": {
        "collapsed": true,
        "nbpresent": {
          "id": "4dee9d7f-3a72-4958-b4a1-4a5e22046c34"
        },
        "id": "1UG8-0kP-2JR",
        "application/vnd.databricks.v1+cell": {
          "title": "",
          "showTitle": false,
          "inputWidgets": {},
          "nuid": "9269e9dd-d29f-40b1-a2b4-7a3476127e59"
        }
      },
      "outputs": [],
      "execution_count": null
    },
    {
      "cell_type": "markdown",
      "source": [
        "We try to train our model based on all the ACT scores as we found out that by involving all the ACT scores, we can get a lower mean square error."
      ],
      "metadata": {
        "nbpresent": {
          "id": "1784b77b-0aae-480f-872e-a0f6d15527ed"
        },
        "id": "nK_CLMPr-2JR",
        "application/vnd.databricks.v1+cell": {
          "title": "",
          "showTitle": false,
          "inputWidgets": {},
          "nuid": "7639fa37-01eb-46fc-be04-b149b67b62f2"
        }
      }
    },
    {
      "cell_type": "code",
      "source": [
        "print(\"Train mean square error:\", np.mean((y_train - lm.predict(x_train)) ** 2))\n",
        "print(\"Test mean square error:\", np.mean((y_test - lm.predict(x_test)) ** 2))"
      ],
      "metadata": {
        "nbpresent": {
          "id": "86fb8475-6814-4cdd-bb7f-d8aeee23d9f9"
        },
        "id": "OaLWaVWz-2JR",
        "application/vnd.databricks.v1+cell": {
          "title": "",
          "showTitle": false,
          "inputWidgets": {},
          "nuid": "55fd3642-a49b-4b44-bd6b-26d986c00661"
        }
      },
      "outputs": [],
      "execution_count": null
    },
    {
      "cell_type": "markdown",
      "source": [
        "We try to see the mean square error for both train and test set."
      ],
      "metadata": {
        "nbpresent": {
          "id": "99437c58-8f0f-43d8-bb80-022c02e658f8"
        },
        "id": "hF8ZEHhK-2JR",
        "application/vnd.databricks.v1+cell": {
          "title": "",
          "showTitle": false,
          "inputWidgets": {},
          "nuid": "8fae1a52-ef6a-4a02-b33f-f74817a3de7a"
        }
      }
    },
    {
      "cell_type": "code",
      "source": [
        "plt.scatter(lm.predict(x_train),lm.predict(x_train) - y_train, c='b', s=40, alpha=0.5)\n",
        "plt.scatter(lm.predict(x_test),lm.predict(x_test) - y_test, c='g', s=40)\n",
        "plt.hlines(y = 0, xmin=0, xmax = 70000)\n",
        "plt.title('Error Rate for Training and Testing Set')\n",
        "plt.ylabel('Error')\n",
        "plt.legend()\n",
        "plt.show()\n",
        "\n",
        "#most of it scatter around 0, good!"
      ],
      "metadata": {
        "nbpresent": {
          "id": "6e9c948d-42e2-402d-ae48-a003f4c7678e"
        },
        "id": "fUPWBEes-2JR",
        "application/vnd.databricks.v1+cell": {
          "title": "",
          "showTitle": false,
          "inputWidgets": {},
          "nuid": "01b3a69d-3a8e-42de-b8f7-d19602297aa0"
        }
      },
      "outputs": [],
      "execution_count": null
    },
    {
      "cell_type": "markdown",
      "source": [
        "We try to plot our the error rate for training and testing set. According to the graph, when the plot is nearer to 0, it mean that it contain a smaller range of error. Hence the graph shown that all the plot is around the 0 line, which is a very good sign."
      ],
      "metadata": {
        "nbpresent": {
          "id": "0d28382c-e4c0-4871-af27-937d410a92f2"
        },
        "id": "-Gwo85tC-2JS",
        "application/vnd.databricks.v1+cell": {
          "title": "",
          "showTitle": false,
          "inputWidgets": {},
          "nuid": "4ed14729-90b2-490b-84d7-2f302ee787a2"
        }
      }
    },
    {
      "cell_type": "code",
      "source": [
        "from sklearn import linear_model\n",
        "import numpy as np\n",
        "lm = linear_model.LinearRegression()\n",
        "lm.fit(x_train, y_train)\n",
        "pred_test = lm.predict(x_test)\n",
        "fit = np.polyfit(x['ACTMTMID'],linear_data.MD_EARN_WNE_P6,1)\n",
        "p = np.poly1d(fit)\n",
        "\n",
        "#since we know math has highest corelation, try to fit and compare using it\n",
        "math = plt.plot(x['ACTMTMID'], linear_data.MD_EARN_WNE_P6, 'ro', label = \"math\")\n",
        "xp = np.linspace(15, 35, 50)\n",
        "best_fit = plt.plot(xp, p(xp), '-', color='green', label=\"best fit line\")\n",
        "\n",
        "plt.title(\"Relationship between ACT[Math] and Earning(actual)\")\n",
        "plt.xlabel(\"ACT[Math]\")\n",
        "plt.ylabel(\"Earning\")\n",
        "plt.legend()\n",
        "plt.show()"
      ],
      "metadata": {
        "nbpresent": {
          "id": "24de54e5-1c7b-4dad-9a61-8c5d6ddfc593"
        },
        "id": "e3hxvJox-2JS",
        "application/vnd.databricks.v1+cell": {
          "title": "",
          "showTitle": false,
          "inputWidgets": {},
          "nuid": "c840395e-4718-4ac5-b98b-0291cf1b745c"
        }
      },
      "outputs": [],
      "execution_count": null
    },
    {
      "cell_type": "markdown",
      "source": [
        "Since we know that math has the highest coeficient, we try to plot out the best fit for math to just have an idea of how our linear regression work so that we will have confidence in our model. The graph above shows the original dataset and its best fit line, we will then use this to compare with our predict model to see if it has any significant difference."
      ],
      "metadata": {
        "nbpresent": {
          "id": "9e48370b-da52-433b-8ec6-1155e7ce2e8c"
        },
        "id": "Iw-hA-cH-2JS",
        "application/vnd.databricks.v1+cell": {
          "title": "",
          "showTitle": false,
          "inputWidgets": {},
          "nuid": "ecdf71f0-0186-44f0-8e19-df836180eac8"
        }
      }
    },
    {
      "cell_type": "code",
      "source": [
        "fit = np.polyfit(x_test['ACTMTMID'],lm.predict(x_test),1)\n",
        "p = np.poly1d(fit)\n",
        "\n",
        "plt.plot(x_test['ACTMTMID'], lm.predict(x_test), 'ro')\n",
        "xp = np.linspace(15, 35, 50)\n",
        "orange = plt.plot(xp, p(xp), '-')\n",
        "\n",
        "plt.title(\"Relationship between ACT[Math] and Earning(model)\")\n",
        "plt.xlabel(\"ACT[MATH]\")\n",
        "plt.ylabel(\"Earning\")\n",
        "plt.show()"
      ],
      "metadata": {
        "nbpresent": {
          "id": "834f90de-d86a-4d37-9fe2-c16db0c4a95c"
        },
        "id": "vsm8KA-z-2JS",
        "application/vnd.databricks.v1+cell": {
          "title": "",
          "showTitle": false,
          "inputWidgets": {},
          "nuid": "2ed6f355-26c9-4059-ace1-f4d667793769"
        }
      },
      "outputs": [],
      "execution_count": null
    },
    {
      "cell_type": "markdown",
      "source": [
        "The graph above shows the best fit line of our model when applied to test set, the difference is not that significant so it prove that our linear regression is logical through comparing the both graph visualization."
      ],
      "metadata": {
        "nbpresent": {
          "id": "6a3a3609-fd7b-48fd-9506-92942717bf3f"
        },
        "id": "3vsvMXBd-2JS",
        "application/vnd.databricks.v1+cell": {
          "title": "",
          "showTitle": false,
          "inputWidgets": {},
          "nuid": "6689214e-4c38-49e0-ae1a-e71005af329e"
        }
      }
    },
    {
      "cell_type": "code",
      "source": [
        "print(\"Mean square error for the model is:\", np.mean((y_test - lm.predict(x_test)) ** 2)) \n",
        "print(\"The estimated coeficient of English is: \", lm.coef_[0])\n",
        "print(\"The estimated coeficient of Math is: \", lm.coef_[1])\n",
        "print(\"The estimated coeficient of Writing is: \", lm.coef_[2])"
      ],
      "metadata": {
        "nbpresent": {
          "id": "0e08484c-69b5-4bc3-8f06-f81a19d524d5"
        },
        "id": "v_njdRpB-2JT",
        "application/vnd.databricks.v1+cell": {
          "title": "",
          "showTitle": false,
          "inputWidgets": {},
          "nuid": "bb2acab1-06cf-46f4-9102-68f441276acb"
        }
      },
      "outputs": [],
      "execution_count": null
    },
    {
      "cell_type": "code",
      "source": [
        "print(lm.predict([30,30,11]))"
      ],
      "metadata": {
        "nbpresent": {
          "id": "367c88cc-c36d-439b-9aa1-66c28fe3ec0e"
        },
        "id": "cITt65X--2JT",
        "application/vnd.databricks.v1+cell": {
          "title": "",
          "showTitle": false,
          "inputWidgets": {},
          "nuid": "762ac558-8af8-41f6-b8a7-6f188c0c3ad5"
        }
      },
      "outputs": [],
      "execution_count": null
    },
    {
      "cell_type": "markdown",
      "source": [
        "We attempt to forecast income based on ACT scores; the\n",
        "results are reasonable, and they demonstrate that our algorithm\n",
        "is capable of forecasting future earnings."
      ],
      "metadata": {
        "application/vnd.databricks.v1+cell": {
          "title": "",
          "showTitle": false,
          "inputWidgets": {},
          "nuid": "d1275e6d-e15c-4733-92d1-df93e94e27db"
        },
        "id": "25s65LFXIaUW"
      }
    }
  ],
  "metadata": {
    "language_info": {
      "mimetype": "text/x-python",
      "name": "python",
      "pygments_lexer": "ipython3",
      "codemirror_mode": {
        "name": "ipython",
        "version": 3
      },
      "version": "3.5.2",
      "nbconvert_exporter": "python",
      "file_extension": ".py"
    },
    "kernelspec": {
      "display_name": "Python [default]",
      "language": "python",
      "name": "python3"
    },
    "anaconda-cloud": {},
    "application/vnd.databricks.v1+notebook": {
      "notebookName": "Ucs",
      "dashboards": [],
      "notebookMetadata": {
        "pythonIndentUnit": 4
      },
      "language": "python",
      "widgets": {},
      "notebookOrigID": 3585829394851020
    },
    "colab": {
      "name": "College-scorecard.ipynb",
      "provenance": [],
      "collapsed_sections": []
    },
    "nbpresent": {
      "slides": {
        "c182d720-265c-4157-87bf-6813357d7793": {
          "id": "c182d720-265c-4157-87bf-6813357d7793",
          "prev": "014b0117-488d-454c-84e8-50954e44a7a5",
          "regions": {
            "99d771b8-94ac-4b3a-b457-c14c787c5d18": {
              "attrs": {
                "height": 0.8,
                "width": 0.8,
                "x": 0.1,
                "y": 0.1
              },
              "content": {
                "cell": "3db88c0d-ff37-4449-b624-48c7d38f6e99",
                "part": "whole"
              },
              "id": "99d771b8-94ac-4b3a-b457-c14c787c5d18"
            }
          }
        },
        "4da7ab57-2121-4872-b5f4-7004c8c921c6": {
          "id": "4da7ab57-2121-4872-b5f4-7004c8c921c6",
          "prev": "253e29cb-dca7-429b-b28c-277533f752a8",
          "regions": {
            "38cf87fd-5bbd-4ef5-abe0-d9bd5223fe47": {
              "attrs": {
                "height": 0.8,
                "width": 0.8,
                "x": 0.1,
                "y": 0.1
              },
              "content": {
                "cell": "d1fdcc24-88c7-47ac-a680-498b8edeec65",
                "part": "whole"
              },
              "id": "38cf87fd-5bbd-4ef5-abe0-d9bd5223fe47"
            }
          }
        },
        "8651d988-5898-453d-857d-462e760b4199": {
          "id": "8651d988-5898-453d-857d-462e760b4199",
          "prev": "f3a2816a-8ce1-4d92-9d2c-6005e9842409",
          "regions": {
            "fc8081c8-8953-4801-92ae-7e8abce9cc5a": {
              "attrs": {
                "height": 0.8,
                "width": 0.8,
                "x": 0.1,
                "y": 0.1
              },
              "content": {
                "cell": "190dfd02-5466-4222-a2bd-5f5933da5398",
                "part": "whole"
              },
              "id": "fc8081c8-8953-4801-92ae-7e8abce9cc5a"
            }
          }
        },
        "b7341446-dda0-4e90-ae8c-9dd80807666f": {
          "id": "b7341446-dda0-4e90-ae8c-9dd80807666f",
          "prev": "cc848068-8a06-48c2-b137-3f8d06233107",
          "regions": {
            "6fbdd899-9047-4cfc-a544-c6a1b237e80c": {
              "attrs": {
                "height": 0.8,
                "width": 0.8,
                "x": 0.1,
                "y": 0.1
              },
              "content": {
                "cell": "8eda3220-e4ef-48e8-a82f-f99752885569",
                "part": "whole"
              },
              "id": "6fbdd899-9047-4cfc-a544-c6a1b237e80c"
            }
          }
        },
        "4757e97c-e0ea-4fff-a685-7b6566aa1d6d": {
          "id": "4757e97c-e0ea-4fff-a685-7b6566aa1d6d",
          "prev": "31df878c-5123-42c3-96d7-08ea5f3e02b9",
          "regions": {
            "8d822bea-5120-4ac1-95eb-05777796855f": {
              "attrs": {
                "height": 0.8,
                "width": 0.8,
                "x": 0.1,
                "y": 0.1
              },
              "content": {
                "cell": "0fdfacba-2b89-4065-bbb9-b3d59be5926b",
                "part": "whole"
              },
              "id": "8d822bea-5120-4ac1-95eb-05777796855f"
            }
          }
        },
        "7a4256ac-fb38-4833-9c27-ca041ce2d3c5": {
          "id": "7a4256ac-fb38-4833-9c27-ca041ce2d3c5",
          "prev": "940a5e1c-5d0b-4cfc-9c87-bbe1c22954a0",
          "regions": {
            "b5671498-5024-4a90-8c11-64b1015e4abf": {
              "attrs": {
                "height": 0.8,
                "width": 0.8,
                "x": 0.1,
                "y": 0.1
              },
              "content": {
                "cell": "ddf07f19-eaf5-479e-9aa5-50e07169eeca",
                "part": "whole"
              },
              "id": "b5671498-5024-4a90-8c11-64b1015e4abf"
            }
          }
        },
        "9d8dbc08-7770-4c75-85f5-16146fb9c6eb": {
          "id": "9d8dbc08-7770-4c75-85f5-16146fb9c6eb",
          "prev": "2cc269ec-9ccc-4e90-9b46-de71f5ed1fb9",
          "regions": {
            "c704890f-447b-4c1b-b6d1-2686cca381ed": {
              "attrs": {
                "height": 0.8,
                "width": 0.8,
                "x": 0.1,
                "y": 0.1
              },
              "content": {
                "cell": "dbd14b60-253f-45b9-a743-9ccfb4ace4be",
                "part": "whole"
              },
              "id": "c704890f-447b-4c1b-b6d1-2686cca381ed"
            }
          }
        },
        "23cf2d8b-c47e-4a49-81b9-bc015e4f3938": {
          "id": "23cf2d8b-c47e-4a49-81b9-bc015e4f3938",
          "prev": "bd3fb85c-079e-4a01-b7a3-5815326dcbcd",
          "regions": {
            "7977b773-7fb6-4510-97ae-2b974ed4662c": {
              "attrs": {
                "height": 0.8,
                "width": 0.8,
                "x": 0.1,
                "y": 0.1
              },
              "content": {
                "cell": "d9aec8f1-6060-4c90-a708-45232924efcb",
                "part": "whole"
              },
              "id": "7977b773-7fb6-4510-97ae-2b974ed4662c"
            }
          }
        },
        "562247d8-357a-42ba-8493-aded331e4e98": {
          "id": "562247d8-357a-42ba-8493-aded331e4e98",
          "prev": "6a13075e-c4fa-4273-ba9d-bcd10229de9f",
          "regions": {
            "f4d26a84-8bb8-48f1-a070-7e1338e0ad8e": {
              "attrs": {
                "height": 0.8,
                "width": 0.8,
                "x": 0.1,
                "y": 0.1
              },
              "content": {
                "cell": "c30500b2-d217-4aa1-8c49-b70dcb0439d4",
                "part": "whole"
              },
              "id": "f4d26a84-8bb8-48f1-a070-7e1338e0ad8e"
            }
          }
        },
        "4be8759e-32d5-4599-81c5-a3566eba1ded": {
          "id": "4be8759e-32d5-4599-81c5-a3566eba1ded",
          "prev": "6727f85f-3492-4d17-823b-d6cddbfe1e68",
          "regions": {
            "3b7c8159-91d6-485d-888b-6e8e42e93c2d": {
              "attrs": {
                "height": 0.8,
                "width": 0.8,
                "x": 0.1,
                "y": 0.1
              },
              "content": {
                "cell": "c9767e41-92ca-45e7-a73c-1755751de748",
                "part": "whole"
              },
              "id": "3b7c8159-91d6-485d-888b-6e8e42e93c2d"
            }
          }
        },
        "67e191ee-8440-4366-8dba-f795d3fd8151": {
          "id": "67e191ee-8440-4366-8dba-f795d3fd8151",
          "prev": "d092920c-68b7-47e2-ae37-e59ec6f9b7f6",
          "regions": {
            "a99723f3-3fe6-4de8-8219-dc7add73dd96": {
              "attrs": {
                "height": 0.8,
                "width": 0.8,
                "x": 0.1,
                "y": 0.1
              },
              "content": {
                "cell": "99437c58-8f0f-43d8-bb80-022c02e658f8",
                "part": "whole"
              },
              "id": "a99723f3-3fe6-4de8-8219-dc7add73dd96"
            }
          }
        },
        "940a5e1c-5d0b-4cfc-9c87-bbe1c22954a0": {
          "id": "940a5e1c-5d0b-4cfc-9c87-bbe1c22954a0",
          "prev": "3b42380d-8269-47e2-9af1-caa978d8deca",
          "regions": {
            "f459d41e-cd0d-4783-876c-d44767db8990": {
              "attrs": {
                "height": 0.8,
                "width": 0.8,
                "x": 0.1,
                "y": 0.1
              },
              "content": {
                "cell": "c1777562-b067-42a4-8405-e866bd67abb8",
                "part": "whole"
              },
              "id": "f459d41e-cd0d-4783-876c-d44767db8990"
            }
          }
        },
        "6c5788e1-4f7c-4d7b-8b44-e094d3e77404": {
          "id": "6c5788e1-4f7c-4d7b-8b44-e094d3e77404",
          "prev": "9d8dbc08-7770-4c75-85f5-16146fb9c6eb",
          "regions": {
            "65b5561d-1053-49af-86bc-95c863dbc933": {
              "attrs": {
                "height": 0.8,
                "width": 0.8,
                "x": 0.1,
                "y": 0.1
              },
              "content": {
                "cell": "47eb8f82-de90-43e2-bbe9-f2266999f8cd",
                "part": "whole"
              },
              "id": "65b5561d-1053-49af-86bc-95c863dbc933"
            }
          }
        },
        "a46e587a-70bb-4ac6-ab45-5deee749e986": {
          "id": "a46e587a-70bb-4ac6-ab45-5deee749e986",
          "prev": "1cb64f57-5ca7-4523-ae35-56f66d3f1e65",
          "regions": {
            "fe6fac77-292f-4bc1-a3f1-1d61caadec95": {
              "attrs": {
                "height": 0.8,
                "width": 0.8,
                "x": 0.1,
                "y": 0.1
              },
              "content": {
                "cell": "d1cf90b1-bd8f-4c69-9a1f-0758fee7588d",
                "part": "whole"
              },
              "id": "fe6fac77-292f-4bc1-a3f1-1d61caadec95"
            }
          }
        },
        "a955a930-ee62-4c98-9aee-971458c7ff6e": {
          "id": "a955a930-ee62-4c98-9aee-971458c7ff6e",
          "prev": "0195873b-485f-4bbe-a36b-2630266e1998",
          "regions": {
            "92d87004-ee13-40e7-9a34-449848e05f6b": {
              "attrs": {
                "height": 0.8,
                "width": 0.8,
                "x": 0.1,
                "y": 0.1
              },
              "content": {
                "cell": "425388ed-f7cb-4883-a84c-60a26078f7a6",
                "part": "whole"
              },
              "id": "92d87004-ee13-40e7-9a34-449848e05f6b"
            }
          }
        },
        "6ef2d47a-2361-4789-92bd-dab442b58b45": {
          "id": "6ef2d47a-2361-4789-92bd-dab442b58b45",
          "prev": "4da7ab57-2121-4872-b5f4-7004c8c921c6",
          "regions": {
            "a2356abf-0635-4918-95ee-d79a493ff12b": {
              "attrs": {
                "height": 0.8,
                "width": 0.8,
                "x": 0.1,
                "y": 0.1
              },
              "content": {
                "cell": "852c3bcd-127c-465c-912b-2b9f940b56f1",
                "part": "whole"
              },
              "id": "a2356abf-0635-4918-95ee-d79a493ff12b"
            }
          }
        },
        "3e245f82-7cd1-4574-8c2c-73d1678341c8": {
          "id": "3e245f82-7cd1-4574-8c2c-73d1678341c8",
          "prev": "1b108c63-aa16-49df-9de0-6c9e78c9e8c5",
          "regions": {
            "4b435952-d38f-4e41-a889-42c7dc83d6b3": {
              "attrs": {
                "height": 0.8,
                "width": 0.8,
                "x": 0.1,
                "y": 0.1
              },
              "content": {
                "cell": "9e48370b-da52-433b-8ec6-1155e7ce2e8c",
                "part": "whole"
              },
              "id": "4b435952-d38f-4e41-a889-42c7dc83d6b3"
            }
          }
        },
        "7ce7c31d-4028-4fd9-a667-c4c761fbf1a3": {
          "id": "7ce7c31d-4028-4fd9-a667-c4c761fbf1a3",
          "prev": "6c5788e1-4f7c-4d7b-8b44-e094d3e77404",
          "regions": {
            "04f04273-fd77-4a6b-9740-cde450abb0e4": {
              "attrs": {
                "height": 0.8,
                "width": 0.8,
                "x": 0.1,
                "y": 0.1
              },
              "content": {
                "cell": "7df272a0-fc81-45a5-8cbc-aad18c2d2d2e",
                "part": "whole"
              },
              "id": "04f04273-fd77-4a6b-9740-cde450abb0e4"
            }
          }
        },
        "1f9a632c-4edf-4b53-9275-9405c5615dd5": {
          "id": "1f9a632c-4edf-4b53-9275-9405c5615dd5",
          "prev": "b7f3dfb6-9d15-4f91-a9db-8fa055d31ecd",
          "regions": {
            "ae0cb8a8-6219-4d39-b45b-756b8fcc788d": {
              "attrs": {
                "height": 0.8,
                "width": 0.8,
                "x": 0.1,
                "y": 0.1
              },
              "content": {
                "cell": "465085c5-5a3f-4fa1-bcb1-f10b966f4a4d",
                "part": "whole"
              },
              "id": "ae0cb8a8-6219-4d39-b45b-756b8fcc788d"
            }
          }
        },
        "6b562e14-0834-4260-b74e-7ca3d201247f": {
          "id": "6b562e14-0834-4260-b74e-7ca3d201247f",
          "prev": "4757e97c-e0ea-4fff-a685-7b6566aa1d6d",
          "regions": {
            "afc63bda-707a-43c3-9f2e-d7f1f5441658": {
              "attrs": {
                "height": 0.8,
                "width": 0.8,
                "x": 0.1,
                "y": 0.1
              },
              "content": {
                "cell": "0fd78178-e981-4e57-a5d1-0ea2d67e2072",
                "part": "whole"
              },
              "id": "afc63bda-707a-43c3-9f2e-d7f1f5441658"
            }
          }
        },
        "c7dd0d76-6d24-467a-a912-37d4076e3216": {
          "id": "c7dd0d76-6d24-467a-a912-37d4076e3216",
          "prev": "1f9a632c-4edf-4b53-9275-9405c5615dd5",
          "regions": {
            "eeedd075-ee40-4f38-9d7e-a2de855b343a": {
              "attrs": {
                "height": 0.8,
                "width": 0.8,
                "x": 0.1,
                "y": 0.1
              },
              "content": {
                "cell": "8089a7a8-4b87-4a70-82b6-56d431394534",
                "part": "whole"
              },
              "id": "eeedd075-ee40-4f38-9d7e-a2de855b343a"
            }
          }
        },
        "bd3fb85c-079e-4a01-b7a3-5815326dcbcd": {
          "id": "bd3fb85c-079e-4a01-b7a3-5815326dcbcd",
          "prev": "c182d720-265c-4157-87bf-6813357d7793",
          "regions": {
            "09aa415b-934f-465c-9000-9a9e79fae52d": {
              "attrs": {
                "height": 0.8,
                "width": 0.8,
                "x": 0.1,
                "y": 0.1
              },
              "content": {
                "cell": "b2beb323-bf29-4280-a853-dd29afb1008a",
                "part": "whole"
              },
              "id": "09aa415b-934f-465c-9000-9a9e79fae52d"
            }
          }
        },
        "0141a205-47df-4d44-9c21-d8bbaa02bc35": {
          "id": "0141a205-47df-4d44-9c21-d8bbaa02bc35",
          "prev": "562247d8-357a-42ba-8493-aded331e4e98",
          "regions": {
            "75f081a0-7b26-412b-9847-28d1973825f9": {
              "attrs": {
                "height": 0.8,
                "width": 0.8,
                "x": 0.1,
                "y": 0.1
              },
              "content": {
                "cell": "ae8f1a6b-8004-45e7-bfe3-90f04b0bbb7a",
                "part": "whole"
              },
              "id": "75f081a0-7b26-412b-9847-28d1973825f9"
            }
          }
        },
        "c8031d53-f260-4bdd-80fd-9370a6a2e463": {
          "id": "c8031d53-f260-4bdd-80fd-9370a6a2e463",
          "prev": "91018033-05b8-49a1-a5cd-acea173050c2",
          "regions": {
            "af2a553d-53a4-4498-ac88-742ab9704267": {
              "attrs": {
                "height": 0.8,
                "width": 0.8,
                "x": 0.1,
                "y": 0.1
              },
              "content": {
                "cell": "28ef4397-42a4-4757-bf37-c40edfd3e968",
                "part": "whole"
              },
              "id": "af2a553d-53a4-4498-ac88-742ab9704267"
            }
          }
        },
        "b3d0cf25-3e69-40be-97cd-77188a5c3e1c": {
          "id": "b3d0cf25-3e69-40be-97cd-77188a5c3e1c",
          "prev": "5b755af8-1ada-4011-8d0f-da3cc3013346",
          "regions": {
            "8ad1cbc1-32c1-4217-8994-7a864e0d04db": {
              "attrs": {
                "height": 0.8,
                "width": 0.8,
                "x": 0.1,
                "y": 0.1
              },
              "content": {
                "cell": "73da3165-30c0-4a90-aaba-65ee49a9fc3d",
                "part": "whole"
              },
              "id": "8ad1cbc1-32c1-4217-8994-7a864e0d04db"
            }
          }
        },
        "b49c76a3-a0cd-4e79-a571-187ba39129c5": {
          "id": "b49c76a3-a0cd-4e79-a571-187ba39129c5",
          "prev": "3b35d25c-3043-4a5c-97d4-baafd1ea8588",
          "regions": {
            "95757946-9a7b-45a6-be87-14356376dd22": {
              "attrs": {
                "height": 0.8,
                "width": 0.8,
                "x": 0.1,
                "y": 0.1
              },
              "content": {
                "cell": "bea1b9dd-d037-4ea8-97f3-edb1a55bc025",
                "part": "whole"
              },
              "id": "95757946-9a7b-45a6-be87-14356376dd22"
            }
          }
        },
        "2814be7d-0d01-4aed-9a58-c76ef8d4e34b": {
          "id": "2814be7d-0d01-4aed-9a58-c76ef8d4e34b",
          "prev": "50e5b296-acab-43e7-9ed3-9ffd3ade1a6b",
          "regions": {
            "5c99fce3-e3cd-4bd5-8cca-cd1a8b841801": {
              "attrs": {
                "height": 0.8,
                "width": 0.8,
                "x": 0.1,
                "y": 0.1
              },
              "content": {
                "cell": "4dee9d7f-3a72-4958-b4a1-4a5e22046c34",
                "part": "whole"
              },
              "id": "5c99fce3-e3cd-4bd5-8cca-cd1a8b841801"
            }
          }
        },
        "478ca3bc-4475-4873-90f4-834f4842f973": {
          "id": "478ca3bc-4475-4873-90f4-834f4842f973",
          "prev": "6ef2d47a-2361-4789-92bd-dab442b58b45",
          "regions": {
            "ac96d89e-38c8-41cb-b57c-e99b6789771e": {
              "attrs": {
                "height": 0.8,
                "width": 0.8,
                "x": 0.1,
                "y": 0.1
              },
              "content": {
                "cell": "2548cd0b-499c-4998-b628-089905c4879f",
                "part": "whole"
              },
              "id": "ac96d89e-38c8-41cb-b57c-e99b6789771e"
            }
          }
        },
        "b9fb5501-fb47-43b4-bbdc-ab4927ae5e4b": {
          "id": "b9fb5501-fb47-43b4-bbdc-ab4927ae5e4b",
          "prev": "6c747fd8-eac0-4f39-a8fd-bd984058e226",
          "regions": {
            "fd1a2833-e620-4069-82a7-63b797c7e8e2": {
              "attrs": {
                "height": 0.8,
                "width": 0.8,
                "x": 0.1,
                "y": 0.1
              },
              "content": {
                "cell": "c2f9e1cf-abfd-41a8-86cb-a04a7b2b3793",
                "part": "whole"
              },
              "id": "fd1a2833-e620-4069-82a7-63b797c7e8e2"
            }
          }
        },
        "6cfa887f-fcbf-4e82-9b98-09674ae55f6e": {
          "id": "6cfa887f-fcbf-4e82-9b98-09674ae55f6e",
          "prev": "85862ea1-f9dc-40af-9cd6-b855ead971b2",
          "regions": {
            "2d5141f6-b9d7-4cd4-95ec-a71923bafb29": {
              "attrs": {
                "height": 0.8,
                "width": 0.8,
                "x": 0.1,
                "y": 0.1
              },
              "content": {
                "cell": "1b3b7fa8-91b1-420c-b17b-fd889596d41d",
                "part": "whole"
              },
              "id": "2d5141f6-b9d7-4cd4-95ec-a71923bafb29"
            }
          }
        },
        "6c747fd8-eac0-4f39-a8fd-bd984058e226": {
          "id": "6c747fd8-eac0-4f39-a8fd-bd984058e226",
          "prev": "7a76a649-5cfd-41a5-82cb-48b578044a05",
          "regions": {
            "6c638cad-2a0c-4002-b445-e7a7345976ac": {
              "attrs": {
                "height": 0.8,
                "width": 0.8,
                "x": 0.1,
                "y": 0.1
              },
              "content": {
                "cell": "1cb0b4b3-5ffd-4a6e-8a37-75313a3ee93f",
                "part": "whole"
              },
              "id": "6c638cad-2a0c-4002-b445-e7a7345976ac"
            }
          }
        },
        "f3a2816a-8ce1-4d92-9d2c-6005e9842409": {
          "id": "f3a2816a-8ce1-4d92-9d2c-6005e9842409",
          "prev": "478ca3bc-4475-4873-90f4-834f4842f973",
          "regions": {
            "bc3b8e0e-4b2f-4dea-bf62-73842cf4f1ea": {
              "attrs": {
                "height": 0.8,
                "width": 0.8,
                "x": 0.1,
                "y": 0.1
              },
              "content": {
                "cell": "fc7ca901-0af7-4d2a-8560-d5ae7597b8b8",
                "part": "whole"
              },
              "id": "bc3b8e0e-4b2f-4dea-bf62-73842cf4f1ea"
            }
          }
        },
        "4c393537-d06f-4cd2-a9aa-f36ac0071214": {
          "id": "4c393537-d06f-4cd2-a9aa-f36ac0071214",
          "prev": "c9533937-67b4-4f2c-8c44-f8d0490b9206",
          "regions": {
            "07298ce0-844d-4c20-93a4-4c5113bc2501": {
              "attrs": {
                "height": 0.8,
                "width": 0.8,
                "x": 0.1,
                "y": 0.1
              },
              "content": {
                "cell": "84876da4-f275-4174-bbf0-691b8d429db9",
                "part": "whole"
              },
              "id": "07298ce0-844d-4c20-93a4-4c5113bc2501"
            }
          }
        },
        "6d672c51-951d-4695-b20c-156b59b98c71": {
          "id": "6d672c51-951d-4695-b20c-156b59b98c71",
          "prev": "23cf2d8b-c47e-4a49-81b9-bc015e4f3938",
          "regions": {
            "65dcdc84-7b04-421f-932e-e3555e2871c2": {
              "attrs": {
                "height": 0.8,
                "width": 0.8,
                "x": 0.1,
                "y": 0.1
              },
              "content": {
                "cell": "aca5ff27-3885-4660-bbb1-e584624dd322",
                "part": "whole"
              },
              "id": "65dcdc84-7b04-421f-932e-e3555e2871c2"
            }
          }
        },
        "50e5b296-acab-43e7-9ed3-9ffd3ade1a6b": {
          "id": "50e5b296-acab-43e7-9ed3-9ffd3ade1a6b",
          "prev": "6d672c51-951d-4695-b20c-156b59b98c71",
          "regions": {
            "30eeea75-d873-4d11-92a9-661bf5ae7fe4": {
              "attrs": {
                "height": 0.8,
                "width": 0.8,
                "x": 0.1,
                "y": 0.1
              },
              "content": {
                "cell": "1830d3ec-bba8-4a3c-a46e-ee7a81783bc8",
                "part": "whole"
              },
              "id": "30eeea75-d873-4d11-92a9-661bf5ae7fe4"
            }
          }
        },
        "b7f3dfb6-9d15-4f91-a9db-8fa055d31ecd": {
          "id": "b7f3dfb6-9d15-4f91-a9db-8fa055d31ecd",
          "prev": "c6b129f8-0906-4194-8db8-c95f58d03439",
          "regions": {
            "b5ad6c23-08bc-466e-9bbc-6da40a927899": {
              "attrs": {
                "height": 0.8,
                "width": 0.8,
                "x": 0.1,
                "y": 0.1
              },
              "content": {
                "cell": "4ae73d9d-6ff5-4a4f-931d-384c236b48ca",
                "part": "whole"
              },
              "id": "b5ad6c23-08bc-466e-9bbc-6da40a927899"
            }
          }
        },
        "3140b891-2dcf-4ca9-bff1-00aeefbe6290": {
          "id": "3140b891-2dcf-4ca9-bff1-00aeefbe6290",
          "prev": "2814be7d-0d01-4aed-9a58-c76ef8d4e34b",
          "regions": {
            "1ccde91e-3971-49e4-8856-f3583aef6393": {
              "attrs": {
                "height": 0.8,
                "width": 0.8,
                "x": 0.1,
                "y": 0.1
              },
              "content": {
                "cell": "1784b77b-0aae-480f-872e-a0f6d15527ed",
                "part": "whole"
              },
              "id": "1ccde91e-3971-49e4-8856-f3583aef6393"
            }
          }
        },
        "f82fac21-c0b7-4119-a7c6-3b94d1ed322f": {
          "id": "f82fac21-c0b7-4119-a7c6-3b94d1ed322f",
          "prev": "7720281a-82bb-473d-8e3b-73cd92771543",
          "regions": {
            "0cac283b-2142-4a24-8be7-3fd5748d6d41": {
              "attrs": {
                "height": 0.8,
                "width": 0.8,
                "x": 0.1,
                "y": 0.1
              },
              "content": {
                "cell": "6ab98b96-6186-4acb-942a-fba3d8c5ab45",
                "part": "whole"
              },
              "id": "0cac283b-2142-4a24-8be7-3fd5748d6d41"
            }
          }
        },
        "c6b129f8-0906-4194-8db8-c95f58d03439": {
          "id": "c6b129f8-0906-4194-8db8-c95f58d03439",
          "prev": "7ce7c31d-4028-4fd9-a667-c4c761fbf1a3",
          "regions": {
            "f371a600-99f4-49a3-8caa-5d1811242ab7": {
              "attrs": {
                "height": 0.8,
                "width": 0.8,
                "x": 0.1,
                "y": 0.1
              },
              "content": {
                "cell": "05649bd8-32e0-4b64-b029-0c760282761c",
                "part": "whole"
              },
              "id": "f371a600-99f4-49a3-8caa-5d1811242ab7"
            }
          }
        },
        "1b108c63-aa16-49df-9de0-6c9e78c9e8c5": {
          "id": "1b108c63-aa16-49df-9de0-6c9e78c9e8c5",
          "prev": "dfe24ef5-7c11-4346-91c0-6e045463435c",
          "regions": {
            "8bf4793d-e5a4-4f30-91fe-8dc726794ad9": {
              "attrs": {
                "height": 0.8,
                "width": 0.8,
                "x": 0.1,
                "y": 0.1
              },
              "content": {
                "cell": "24de54e5-1c7b-4dad-9a61-8c5d6ddfc593",
                "part": "whole"
              },
              "id": "8bf4793d-e5a4-4f30-91fe-8dc726794ad9"
            }
          }
        },
        "71caf42f-5c62-4a86-9cf2-77b380288b8e": {
          "id": "71caf42f-5c62-4a86-9cf2-77b380288b8e",
          "prev": "b7341446-dda0-4e90-ae8c-9dd80807666f",
          "regions": {
            "8f3d5743-c15a-447e-a87f-a24f31742fb9": {
              "attrs": {
                "height": 0.8,
                "width": 0.8,
                "x": 0.1,
                "y": 0.1
              },
              "content": {
                "cell": "da43a950-1f45-427b-b2f1-5f519524ca7c",
                "part": "whole"
              },
              "id": "8f3d5743-c15a-447e-a87f-a24f31742fb9"
            }
          }
        },
        "1cb64f57-5ca7-4523-ae35-56f66d3f1e65": {
          "id": "1cb64f57-5ca7-4523-ae35-56f66d3f1e65",
          "prev": "b49c76a3-a0cd-4e79-a571-187ba39129c5",
          "regions": {
            "8f69466d-5756-47b6-b00d-d5a471f0e4e5": {
              "attrs": {
                "height": 0.8,
                "width": 0.8,
                "x": 0.1,
                "y": 0.1
              },
              "content": {
                "cell": "769aa339-5c30-452a-b689-58b1922267d1",
                "part": "whole"
              },
              "id": "8f69466d-5756-47b6-b00d-d5a471f0e4e5"
            }
          }
        },
        "157542f9-d593-4701-9d29-bc0f9f6e99eb": {
          "id": "157542f9-d593-4701-9d29-bc0f9f6e99eb",
          "prev": "e88e7ce2-b99d-4999-b7fa-1d41f5f28b5b",
          "regions": {
            "f59c34a7-cfb3-4661-8502-d46298827490": {
              "attrs": {
                "height": 0.8,
                "width": 0.8,
                "x": 0.1,
                "y": 0.1
              },
              "content": {
                "cell": "c888e77f-7cf7-4faf-bb61-2b5b84247f8c",
                "part": "whole"
              },
              "id": "f59c34a7-cfb3-4661-8502-d46298827490"
            }
          }
        },
        "91018033-05b8-49a1-a5cd-acea173050c2": {
          "id": "91018033-05b8-49a1-a5cd-acea173050c2",
          "prev": "273149ee-7fc8-4fda-bef3-9276b6ea89d0",
          "regions": {
            "34d96bef-b951-4022-b39e-78f49f82a3eb": {
              "attrs": {
                "height": 0.8,
                "width": 0.8,
                "x": 0.1,
                "y": 0.1
              },
              "content": {
                "cell": "0b8e8734-54df-4cd6-96ac-0bbc682523fa",
                "part": "whole"
              },
              "id": "34d96bef-b951-4022-b39e-78f49f82a3eb"
            }
          }
        },
        "0195873b-485f-4bbe-a36b-2630266e1998": {
          "id": "0195873b-485f-4bbe-a36b-2630266e1998",
          "prev": "89d8f350-a3e8-47c5-a911-40c8f6474e5a",
          "regions": {
            "b499e265-8941-4b3b-bd12-cfc8e91a7aa1": {
              "attrs": {
                "height": 0.8,
                "width": 0.8,
                "x": 0.1,
                "y": 0.1
              },
              "content": {
                "cell": "367c88cc-c36d-439b-9aa1-66c28fe3ec0e",
                "part": "whole"
              },
              "id": "b499e265-8941-4b3b-bd12-cfc8e91a7aa1"
            }
          }
        },
        "4a1e28f9-3c1c-4b4f-99ac-415ef92bf743": {
          "id": "4a1e28f9-3c1c-4b4f-99ac-415ef92bf743",
          "prev": "019ca4e3-465e-4bad-ba05-cca5ffa8aa59",
          "regions": {
            "792f8ca4-8430-40a5-bc39-3b96bf9da331": {
              "attrs": {
                "height": 0.8,
                "width": 0.8,
                "x": 0.1,
                "y": 0.1
              },
              "content": {
                "cell": "463672c6-f087-44ad-96d6-053d0e12c5c0",
                "part": "whole"
              },
              "id": "792f8ca4-8430-40a5-bc39-3b96bf9da331"
            }
          }
        },
        "0c72d8c0-4e4b-4a8f-9bb1-da29cf3c70db": {
          "id": "0c72d8c0-4e4b-4a8f-9bb1-da29cf3c70db",
          "prev": "7a4256ac-fb38-4833-9c27-ca041ce2d3c5",
          "regions": {
            "e0c3d3dd-9a8f-4ead-90a9-7d873a992423": {
              "attrs": {
                "height": 0.8,
                "width": 0.8,
                "x": 0.1,
                "y": 0.1
              },
              "content": {
                "cell": "2a13bda8-a004-44c0-a8f6-cc15ce83f6a8",
                "part": "whole"
              },
              "id": "e0c3d3dd-9a8f-4ead-90a9-7d873a992423"
            }
          }
        },
        "c9533937-67b4-4f2c-8c44-f8d0490b9206": {
          "id": "c9533937-67b4-4f2c-8c44-f8d0490b9206",
          "prev": "b18e5484-1aee-4019-9182-0986d4c654c2",
          "regions": {
            "f7f616d5-6313-43d4-b5e8-f3445443d739": {
              "attrs": {
                "height": 0.8,
                "width": 0.8,
                "x": 0.1,
                "y": 0.1
              },
              "content": {
                "cell": "110d9428-da57-4693-9937-538508416a52",
                "part": "whole"
              },
              "id": "f7f616d5-6313-43d4-b5e8-f3445443d739"
            }
          }
        },
        "7720281a-82bb-473d-8e3b-73cd92771543": {
          "id": "7720281a-82bb-473d-8e3b-73cd92771543",
          "prev": "b9fb5501-fb47-43b4-bbdc-ab4927ae5e4b",
          "regions": {
            "916f2be4-870c-4d30-abdf-d343efa00af6": {
              "attrs": {
                "height": 0.8,
                "width": 0.8,
                "x": 0.1,
                "y": 0.1
              },
              "content": {
                "cell": "e60d40c8-8506-4da2-a530-afc8b6a6caf9",
                "part": "whole"
              },
              "id": "916f2be4-870c-4d30-abdf-d343efa00af6"
            }
          }
        },
        "6727f85f-3492-4d17-823b-d6cddbfe1e68": {
          "id": "6727f85f-3492-4d17-823b-d6cddbfe1e68",
          "prev": "da5f60d7-1b02-4cf3-a7d5-72f780228c2d",
          "regions": {
            "40b44a40-9d29-4834-a208-9075b0c9999f": {
              "attrs": {
                "height": 0.8,
                "width": 0.8,
                "x": 0.1,
                "y": 0.1
              },
              "content": {
                "cell": "3c54d345-14ee-47ca-9c0a-741c6e2afd82",
                "part": "whole"
              },
              "id": "40b44a40-9d29-4834-a208-9075b0c9999f"
            }
          }
        },
        "2cc269ec-9ccc-4e90-9b46-de71f5ed1fb9": {
          "id": "2cc269ec-9ccc-4e90-9b46-de71f5ed1fb9",
          "prev": "4be8759e-32d5-4599-81c5-a3566eba1ded",
          "regions": {
            "2f058a31-4551-4b61-b6df-fc48f02b62c6": {
              "attrs": {
                "height": 0.8,
                "width": 0.8,
                "x": 0.1,
                "y": 0.1
              },
              "content": {
                "cell": "ca955e69-453d-4470-8aba-ebfebf517c4c",
                "part": "whole"
              },
              "id": "2f058a31-4551-4b61-b6df-fc48f02b62c6"
            }
          }
        },
        "b18e5484-1aee-4019-9182-0986d4c654c2": {
          "id": "b18e5484-1aee-4019-9182-0986d4c654c2",
          "prev": "6b562e14-0834-4260-b74e-7ca3d201247f",
          "regions": {
            "54a3f94e-5ced-40ab-b886-2180eedf7aac": {
              "attrs": {
                "height": 0.8,
                "width": 0.8,
                "x": 0.1,
                "y": 0.1
              },
              "content": {
                "cell": "7348d411-18d7-45c3-ba71-3d90635ba670",
                "part": "whole"
              },
              "id": "54a3f94e-5ced-40ab-b886-2180eedf7aac"
            }
          }
        },
        "4148d5ac-08e1-4a04-aca3-a84e5ee471fd": {
          "id": "4148d5ac-08e1-4a04-aca3-a84e5ee471fd",
          "prev": "a46e587a-70bb-4ac6-ab45-5deee749e986",
          "regions": {
            "7a80239d-a059-4024-b86c-cb83e58dc4e5": {
              "attrs": {
                "height": 0.8,
                "width": 0.8,
                "x": 0.1,
                "y": 0.1
              },
              "content": {
                "cell": "57b57413-cf26-489b-b3e8-d01003295df9",
                "part": "whole"
              },
              "id": "7a80239d-a059-4024-b86c-cb83e58dc4e5"
            }
          }
        },
        "881f1145-1e97-4736-aa95-359a43559b78": {
          "id": "881f1145-1e97-4736-aa95-359a43559b78",
          "prev": "b41489de-7b16-4c08-92ef-da93a30f0f08",
          "regions": {
            "42677bf9-011c-4d80-a51d-b7f5a24a463d": {
              "attrs": {
                "height": 0.8,
                "width": 0.8,
                "x": 0.1,
                "y": 0.1
              },
              "content": {
                "cell": "0e08484c-69b5-4bc3-8f06-f81a19d524d5",
                "part": "whole"
              },
              "id": "42677bf9-011c-4d80-a51d-b7f5a24a463d"
            }
          }
        },
        "dfe24ef5-7c11-4346-91c0-6e045463435c": {
          "id": "dfe24ef5-7c11-4346-91c0-6e045463435c",
          "prev": "aa119ccd-4eec-4cba-9ace-db11c63d1732",
          "regions": {
            "7b436af0-9e56-426b-8c0c-fbe8d15726f6": {
              "attrs": {
                "height": 0.8,
                "width": 0.8,
                "x": 0.1,
                "y": 0.1
              },
              "content": {
                "cell": "0d28382c-e4c0-4871-af27-937d410a92f2",
                "part": "whole"
              },
              "id": "7b436af0-9e56-426b-8c0c-fbe8d15726f6"
            }
          }
        },
        "62f075ad-3d90-46c5-be45-f83ce27f7546": {
          "id": "62f075ad-3d90-46c5-be45-f83ce27f7546",
          "prev": "71caf42f-5c62-4a86-9cf2-77b380288b8e",
          "regions": {
            "4f71b262-97f2-421c-8d4f-d6aa8daf9bb2": {
              "attrs": {
                "height": 0.8,
                "width": 0.8,
                "x": 0.1,
                "y": 0.1
              },
              "content": {
                "cell": "0af1e606-2ce3-4237-8e01-8da48516f795",
                "part": "whole"
              },
              "id": "4f71b262-97f2-421c-8d4f-d6aa8daf9bb2"
            }
          }
        },
        "cc848068-8a06-48c2-b137-3f8d06233107": {
          "id": "cc848068-8a06-48c2-b137-3f8d06233107",
          "prev": "8651d988-5898-453d-857d-462e760b4199",
          "regions": {
            "8e3354d3-83ef-42d1-b697-3888e1829b8f": {
              "attrs": {
                "height": 0.8,
                "width": 0.8,
                "x": 0.1,
                "y": 0.1
              },
              "content": {
                "cell": "8209c854-b8c2-42eb-b87b-d4a820e24789",
                "part": "whole"
              },
              "id": "8e3354d3-83ef-42d1-b697-3888e1829b8f"
            }
          }
        },
        "019ca4e3-465e-4bad-ba05-cca5ffa8aa59": {
          "id": "019ca4e3-465e-4bad-ba05-cca5ffa8aa59",
          "prev": "b3d0cf25-3e69-40be-97cd-77188a5c3e1c",
          "regions": {
            "fbfb9084-4720-4aa6-ae0e-6afb94130d12": {
              "attrs": {
                "height": 0.8,
                "width": 0.8,
                "x": 0.1,
                "y": 0.1
              },
              "content": {
                "cell": "5dd514c0-90d9-453e-a3e0-851242e9a774",
                "part": "whole"
              },
              "id": "fbfb9084-4720-4aa6-ae0e-6afb94130d12"
            }
          }
        },
        "3f814fb7-2433-445a-b71e-287a89f136a8": {
          "id": "3f814fb7-2433-445a-b71e-287a89f136a8",
          "prev": "c7dd0d76-6d24-467a-a912-37d4076e3216",
          "regions": {
            "868f12bd-934d-4ec2-a812-8d550feded39": {
              "attrs": {
                "height": 0.8,
                "width": 0.8,
                "x": 0.1,
                "y": 0.1
              },
              "content": {
                "cell": "99fdc5fd-0a85-4233-8e56-3d5fea5df46e",
                "part": "whole"
              },
              "id": "868f12bd-934d-4ec2-a812-8d550feded39"
            }
          }
        },
        "e88e7ce2-b99d-4999-b7fa-1d41f5f28b5b": {
          "id": "e88e7ce2-b99d-4999-b7fa-1d41f5f28b5b",
          "prev": "4148d5ac-08e1-4a04-aca3-a84e5ee471fd",
          "regions": {
            "d1642e5c-e1b9-40cc-a7f3-ecb15d7ccbe1": {
              "attrs": {
                "height": 0.8,
                "width": 0.8,
                "x": 0.1,
                "y": 0.1
              },
              "content": {
                "cell": "d5223136-adf8-4c35-8330-81d66a77a9b4",
                "part": "whole"
              },
              "id": "d1642e5c-e1b9-40cc-a7f3-ecb15d7ccbe1"
            }
          }
        },
        "6bdd3a80-d313-4ce8-89e9-9d7377493872": {
          "id": "6bdd3a80-d313-4ce8-89e9-9d7377493872",
          "prev": "0141a205-47df-4d44-9c21-d8bbaa02bc35",
          "regions": {
            "c2ab1d9c-793c-43a6-886b-842c6bbf5482": {
              "attrs": {
                "height": 0.8,
                "width": 0.8,
                "x": 0.1,
                "y": 0.1
              },
              "content": {
                "cell": "662fa2ed-682f-423d-8d85-fa0b539239f2",
                "part": "whole"
              },
              "id": "c2ab1d9c-793c-43a6-886b-842c6bbf5482"
            }
          }
        },
        "6a13075e-c4fa-4273-ba9d-bcd10229de9f": {
          "id": "6a13075e-c4fa-4273-ba9d-bcd10229de9f",
          "prev": "4827022b-3aac-426d-ba80-4aebafece5ea",
          "regions": {
            "7f4cc135-f25a-4ffd-8652-88d008e3facb": {
              "attrs": {
                "height": 0.8,
                "width": 0.8,
                "x": 0.1,
                "y": 0.1
              },
              "content": {
                "cell": "0806e9e8-e093-4278-b32b-d18c62728ef2",
                "part": "whole"
              },
              "id": "7f4cc135-f25a-4ffd-8652-88d008e3facb"
            }
          }
        },
        "7a76a649-5cfd-41a5-82cb-48b578044a05": {
          "id": "7a76a649-5cfd-41a5-82cb-48b578044a05",
          "prev": "62f075ad-3d90-46c5-be45-f83ce27f7546",
          "regions": {
            "8c30bb18-a50e-457b-b34c-7fe854cd66f4": {
              "attrs": {
                "height": 0.8,
                "width": 0.8,
                "x": 0.1,
                "y": 0.1
              },
              "content": {
                "cell": "bdef9373-c989-4fa8-a4e8-f99a0287b855",
                "part": "whole"
              },
              "id": "8c30bb18-a50e-457b-b34c-7fe854cd66f4"
            }
          }
        },
        "31df878c-5123-42c3-96d7-08ea5f3e02b9": {
          "id": "31df878c-5123-42c3-96d7-08ea5f3e02b9",
          "prev": "b2309e94-334d-4c3b-9821-dac9beef7adb",
          "regions": {
            "bc2d4eac-1824-45d2-bb49-07b9ba5a45c6": {
              "attrs": {
                "height": 0.8,
                "width": 0.8,
                "x": 0.1,
                "y": 0.1
              },
              "content": {
                "cell": "3b829a3f-51e1-444a-86a2-01adb468179f",
                "part": "whole"
              },
              "id": "bc2d4eac-1824-45d2-bb49-07b9ba5a45c6"
            }
          }
        },
        "2adeb28e-f1fd-4bfd-b3cd-924cf0c300b9": {
          "id": "2adeb28e-f1fd-4bfd-b3cd-924cf0c300b9",
          "prev": "c8031d53-f260-4bdd-80fd-9370a6a2e463",
          "regions": {
            "c3093b15-4cdc-4e8b-8d0d-f7e25f113706": {
              "attrs": {
                "height": 0.8,
                "width": 0.8,
                "x": 0.1,
                "y": 0.1
              },
              "content": {
                "cell": "4d6ad994-1feb-4ea7-a3ff-c7f67da9ee02",
                "part": "whole"
              },
              "id": "c3093b15-4cdc-4e8b-8d0d-f7e25f113706"
            }
          }
        },
        "253e29cb-dca7-429b-b28c-277533f752a8": {
          "id": "253e29cb-dca7-429b-b28c-277533f752a8",
          "prev": "6bdd3a80-d313-4ce8-89e9-9d7377493872",
          "regions": {
            "1b17cbb7-adfe-44bb-8543-1c564c3e3cd6": {
              "attrs": {
                "height": 0.8,
                "width": 0.8,
                "x": 0.1,
                "y": 0.1
              },
              "content": {
                "cell": "09ad53da-afb2-4ce5-8dd0-c6dd11af1c98",
                "part": "whole"
              },
              "id": "1b17cbb7-adfe-44bb-8543-1c564c3e3cd6"
            }
          }
        },
        "8b47e906-017d-4fe4-99d5-642c72df9477": {
          "id": "8b47e906-017d-4fe4-99d5-642c72df9477",
          "prev": "cb990466-0631-41ec-addb-021e1d8a3e0f",
          "regions": {
            "959b5db8-164e-46eb-adcb-ab87c6008dd6": {
              "attrs": {
                "height": 0.8,
                "width": 0.8,
                "x": 0.1,
                "y": 0.1
              },
              "content": {
                "cell": "b38a4810-d708-4ab6-8dcc-a24bec3273a0",
                "part": "whole"
              },
              "id": "959b5db8-164e-46eb-adcb-ab87c6008dd6"
            }
          }
        },
        "0acace24-e216-49f7-9dc9-b309dc4e760a": {
          "id": "0acace24-e216-49f7-9dc9-b309dc4e760a",
          "prev": "3e245f82-7cd1-4574-8c2c-73d1678341c8",
          "regions": {
            "abc4ab8b-36b6-4863-8f89-8088fddecda3": {
              "attrs": {
                "height": 0.8,
                "width": 0.8,
                "x": 0.1,
                "y": 0.1
              },
              "content": {
                "cell": "834f90de-d86a-4d37-9fe2-c16db0c4a95c",
                "part": "whole"
              },
              "id": "abc4ab8b-36b6-4863-8f89-8088fddecda3"
            }
          }
        },
        "0f9c6d72-bfb9-4de0-bb64-af1d4c9353d2": {
          "id": "0f9c6d72-bfb9-4de0-bb64-af1d4c9353d2",
          "prev": "4c393537-d06f-4cd2-a9aa-f36ac0071214",
          "regions": {
            "ca6d6d03-7488-4c7b-a533-d0ab9c9f2b4f": {
              "attrs": {
                "height": 0.8,
                "width": 0.8,
                "x": 0.1,
                "y": 0.1
              },
              "content": {
                "cell": "87795b6a-d72e-4ddd-b739-83a41d30d00a",
                "part": "whole"
              },
              "id": "ca6d6d03-7488-4c7b-a533-d0ab9c9f2b4f"
            }
          }
        },
        "46fd3f42-f762-400b-a940-94517c1142a7": {
          "id": "46fd3f42-f762-400b-a940-94517c1142a7",
          "prev": "2adeb28e-f1fd-4bfd-b3cd-924cf0c300b9",
          "regions": {
            "2e1b7306-4b84-4539-9c5c-78f638cfef10": {
              "attrs": {
                "height": 0.8,
                "width": 0.8,
                "x": 0.1,
                "y": 0.1
              },
              "content": {
                "cell": "676b30a5-35d3-4d01-a862-32e63b200b05",
                "part": "whole"
              },
              "id": "2e1b7306-4b84-4539-9c5c-78f638cfef10"
            }
          }
        },
        "b2309e94-334d-4c3b-9821-dac9beef7adb": {
          "id": "b2309e94-334d-4c3b-9821-dac9beef7adb",
          "prev": "f82fac21-c0b7-4119-a7c6-3b94d1ed322f",
          "regions": {
            "b0bf5339-f529-4592-8e79-d3bd0ecce46a": {
              "attrs": {
                "height": 0.8,
                "width": 0.8,
                "x": 0.1,
                "y": 0.1
              },
              "content": {
                "cell": "0408e95d-b9fc-44d7-b41b-e62657c2b6dc",
                "part": "whole"
              },
              "id": "b0bf5339-f529-4592-8e79-d3bd0ecce46a"
            }
          }
        },
        "273149ee-7fc8-4fda-bef3-9276b6ea89d0": {
          "id": "273149ee-7fc8-4fda-bef3-9276b6ea89d0",
          "prev": "8b47e906-017d-4fe4-99d5-642c72df9477",
          "regions": {
            "4289b3b5-8f72-44fd-bd43-9fa709cbe985": {
              "attrs": {
                "height": 0.8,
                "width": 0.8,
                "x": 0.1,
                "y": 0.1
              },
              "content": {
                "cell": "f420356b-3537-4b1e-98f6-b390208be12a",
                "part": "whole"
              },
              "id": "4289b3b5-8f72-44fd-bd43-9fa709cbe985"
            }
          }
        },
        "7c1055f9-4275-4c03-8085-44fd68f66a98": {
          "id": "7c1055f9-4275-4c03-8085-44fd68f66a98",
          "layout": "manual",
          "prev": null,
          "regions": {
            "83fc1d4a-0e1d-4a28-bd08-de82da2eea20": {
              "attrs": {
                "x": 0,
                "y": 0,
                "height": 1,
                "treemap:weight": 1,
                "width": 1
              },
              "content": {
                "cell": "d016b87a-a91f-48bc-af00-24b4e78d55b0",
                "part": "whole"
              },
              "id": "83fc1d4a-0e1d-4a28-bd08-de82da2eea20"
            }
          }
        },
        "407bfa3a-0411-4120-8e00-53f1e58ebf3a": {
          "id": "407bfa3a-0411-4120-8e00-53f1e58ebf3a",
          "prev": "0c72d8c0-4e4b-4a8f-9bb1-da29cf3c70db",
          "regions": {
            "92e9ffce-a312-474d-b0ff-95b671ae934b": {
              "attrs": {
                "height": 0.8,
                "width": 0.8,
                "x": 0.1,
                "y": 0.1
              },
              "content": {
                "cell": "9ce1c480-88cd-4358-b63d-b9435aac314c",
                "part": "whole"
              },
              "id": "92e9ffce-a312-474d-b0ff-95b671ae934b"
            }
          }
        },
        "4827022b-3aac-426d-ba80-4aebafece5ea": {
          "id": "4827022b-3aac-426d-ba80-4aebafece5ea",
          "prev": "3f814fb7-2433-445a-b71e-287a89f136a8",
          "regions": {
            "923c20a0-9162-4843-9d89-2b88f7a02e82": {
              "attrs": {
                "height": 0.8,
                "width": 0.8,
                "x": 0.1,
                "y": 0.1
              },
              "content": {
                "cell": "1bfab9f3-b8b6-4415-bb4b-99e6ba215f62",
                "part": "whole"
              },
              "id": "923c20a0-9162-4843-9d89-2b88f7a02e82"
            }
          }
        },
        "5b755af8-1ada-4011-8d0f-da3cc3013346": {
          "id": "5b755af8-1ada-4011-8d0f-da3cc3013346",
          "prev": "0f9c6d72-bfb9-4de0-bb64-af1d4c9353d2",
          "regions": {
            "d60f3ef7-51f8-4e31-bf4b-def1da6e7be3": {
              "attrs": {
                "height": 0.8,
                "width": 0.8,
                "x": 0.1,
                "y": 0.1
              },
              "content": {
                "cell": "ed791fdc-3856-447a-9e4e-901205cff71d",
                "part": "whole"
              },
              "id": "d60f3ef7-51f8-4e31-bf4b-def1da6e7be3"
            }
          }
        },
        "3b35d25c-3043-4a5c-97d4-baafd1ea8588": {
          "id": "3b35d25c-3043-4a5c-97d4-baafd1ea8588",
          "prev": "4a1e28f9-3c1c-4b4f-99ac-415ef92bf743",
          "regions": {
            "aeaa8870-f8e0-4373-9cd8-9857d18a0269": {
              "attrs": {
                "height": 0.8,
                "width": 0.8,
                "x": 0.1,
                "y": 0.1
              },
              "content": {
                "cell": "8bebd01b-0893-4bd6-aff8-bec91bfee593",
                "part": "whole"
              },
              "id": "aeaa8870-f8e0-4373-9cd8-9857d18a0269"
            }
          }
        },
        "e8e8ff37-e047-4ed2-960b-dfa1075cd37e": {
          "id": "e8e8ff37-e047-4ed2-960b-dfa1075cd37e",
          "prev": "407bfa3a-0411-4120-8e00-53f1e58ebf3a",
          "regions": {
            "7a8cb85c-6c39-4fa4-ad0b-21579430e2a8": {
              "attrs": {
                "height": 0.8,
                "width": 0.8,
                "x": 0.1,
                "y": 0.1
              },
              "content": {
                "cell": "1bd82e4a-fa32-4263-9151-d7b2f16922ff",
                "part": "whole"
              },
              "id": "7a8cb85c-6c39-4fa4-ad0b-21579430e2a8"
            }
          }
        },
        "cb990466-0631-41ec-addb-021e1d8a3e0f": {
          "id": "cb990466-0631-41ec-addb-021e1d8a3e0f",
          "prev": "157542f9-d593-4701-9d29-bc0f9f6e99eb",
          "regions": {
            "b35a7662-6334-4ed5-bde3-d2f8723fb39d": {
              "attrs": {
                "height": 0.8,
                "width": 0.8,
                "x": 0.1,
                "y": 0.1
              },
              "content": {
                "cell": "b02a336d-842f-416f-a277-a4f3fcb5236f",
                "part": "whole"
              },
              "id": "b35a7662-6334-4ed5-bde3-d2f8723fb39d"
            }
          }
        },
        "3b42380d-8269-47e2-9af1-caa978d8deca": {
          "id": "3b42380d-8269-47e2-9af1-caa978d8deca",
          "prev": "7c1055f9-4275-4c03-8085-44fd68f66a98",
          "regions": {
            "96f65f2e-74ee-4f6e-ae2b-fbe45a9bfa10": {
              "attrs": {
                "height": 0.8,
                "width": 0.8,
                "x": 0.1,
                "y": 0.1
              },
              "content": {
                "cell": "36eb8206-14c1-4cf2-a920-b603c09f2fed",
                "part": "whole"
              },
              "id": "96f65f2e-74ee-4f6e-ae2b-fbe45a9bfa10"
            }
          }
        },
        "89d8f350-a3e8-47c5-a911-40c8f6474e5a": {
          "id": "89d8f350-a3e8-47c5-a911-40c8f6474e5a",
          "prev": "881f1145-1e97-4736-aa95-359a43559b78",
          "regions": {
            "f2b178cd-df03-484b-a892-5392101858f8": {
              "attrs": {
                "height": 0.8,
                "width": 0.8,
                "x": 0.1,
                "y": 0.1
              },
              "content": {
                "cell": "fa753cd5-2b20-4bb9-86b8-4803bef0a6cc",
                "part": "whole"
              },
              "id": "f2b178cd-df03-484b-a892-5392101858f8"
            }
          }
        },
        "b41489de-7b16-4c08-92ef-da93a30f0f08": {
          "id": "b41489de-7b16-4c08-92ef-da93a30f0f08",
          "prev": "0acace24-e216-49f7-9dc9-b309dc4e760a",
          "regions": {
            "f7823330-418b-47de-b443-5108726d41d8": {
              "attrs": {
                "height": 0.8,
                "width": 0.8,
                "x": 0.1,
                "y": 0.1
              },
              "content": {
                "cell": "6a3a3609-fd7b-48fd-9506-92942717bf3f",
                "part": "whole"
              },
              "id": "f7823330-418b-47de-b443-5108726d41d8"
            }
          }
        },
        "da5f60d7-1b02-4cf3-a7d5-72f780228c2d": {
          "id": "da5f60d7-1b02-4cf3-a7d5-72f780228c2d",
          "prev": "6cfa887f-fcbf-4e82-9b98-09674ae55f6e",
          "regions": {
            "608add53-8258-43ca-a43c-650c596f771a": {
              "attrs": {
                "height": 0.8,
                "width": 0.8,
                "x": 0.1,
                "y": 0.1
              },
              "content": {
                "cell": "eae49fbb-0dcc-460f-8133-1f12e2cedddc",
                "part": "whole"
              },
              "id": "608add53-8258-43ca-a43c-650c596f771a"
            }
          }
        },
        "d092920c-68b7-47e2-ae37-e59ec6f9b7f6": {
          "id": "d092920c-68b7-47e2-ae37-e59ec6f9b7f6",
          "prev": "3140b891-2dcf-4ca9-bff1-00aeefbe6290",
          "regions": {
            "9658bca8-89ee-4359-abf9-16703f0bd47d": {
              "attrs": {
                "height": 0.8,
                "width": 0.8,
                "x": 0.1,
                "y": 0.1
              },
              "content": {
                "cell": "86fb8475-6814-4cdd-bb7f-d8aeee23d9f9",
                "part": "whole"
              },
              "id": "9658bca8-89ee-4359-abf9-16703f0bd47d"
            }
          }
        },
        "014b0117-488d-454c-84e8-50954e44a7a5": {
          "id": "014b0117-488d-454c-84e8-50954e44a7a5",
          "prev": "46fd3f42-f762-400b-a940-94517c1142a7",
          "regions": {
            "b310bf26-07da-4e36-ab5d-873844b52461": {
              "attrs": {
                "height": 0.8,
                "width": 0.8,
                "x": 0.1,
                "y": 0.1
              },
              "content": {
                "cell": "eb9c6afb-8847-46b4-9702-212488e2037e",
                "part": "whole"
              },
              "id": "b310bf26-07da-4e36-ab5d-873844b52461"
            }
          }
        },
        "85862ea1-f9dc-40af-9cd6-b855ead971b2": {
          "id": "85862ea1-f9dc-40af-9cd6-b855ead971b2",
          "prev": "e8e8ff37-e047-4ed2-960b-dfa1075cd37e",
          "regions": {
            "8759b007-5ed7-4521-94af-e6156623230b": {
              "attrs": {
                "height": 0.8,
                "width": 0.8,
                "x": 0.1,
                "y": 0.1
              },
              "content": {
                "cell": "44d6491c-51c2-4c4f-a552-969d6d83398e",
                "part": "whole"
              },
              "id": "8759b007-5ed7-4521-94af-e6156623230b"
            }
          }
        },
        "aa119ccd-4eec-4cba-9ace-db11c63d1732": {
          "id": "aa119ccd-4eec-4cba-9ace-db11c63d1732",
          "prev": "67e191ee-8440-4366-8dba-f795d3fd8151",
          "regions": {
            "425714bd-0686-4f4c-9b83-8bfb2510245b": {
              "attrs": {
                "height": 0.8,
                "width": 0.8,
                "x": 0.1,
                "y": 0.1
              },
              "content": {
                "cell": "6e9c948d-42e2-402d-ae48-a003f4c7678e",
                "part": "whole"
              },
              "id": "425714bd-0686-4f4c-9b83-8bfb2510245b"
            }
          }
        }
      },
      "themes": {}
    }
  },
  "nbformat": 4,
  "nbformat_minor": 0
}